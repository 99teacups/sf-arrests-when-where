{
 "cells": [
  {
   "cell_type": "markdown",
   "metadata": {},
   "source": [
    "# Analyzing When and Where San Francisco Criminal Arrests Occur Using R and ggplot2\n",
    "\n",
    "by [Max Woolf](http://minimaxir.com)\n",
    "\n",
    "This notebook is the complement to my blog posts [Analyzing San Francisco Crime Data to Determine When Arrests Frequently Occur](http://minimaxir.com/2015/12/sf-arrests/) and [Mapping Where Arrests Frequently Occur in San Francisco Using Crime Data](http://minimaxir.com/2015/12/sf-arrest-maps/).\n",
    "\n",
    "*This notebook is licensed under the MIT License. If you use the code or data visualization designs contained within this notebook, it would be greatly appreciated if proper attribution is given back to this notebook and/or myself. Thanks! :)*"
   ]
  },
  {
   "cell_type": "code",
   "execution_count": 1,
   "metadata": {
    "collapsed": false
   },
   "outputs": [
    {
     "name": "stderr",
     "output_type": "stream",
     "text": [
      "\n",
      "Attaching package: ‘dplyr’\n",
      "\n",
      "The following objects are masked from ‘package:stats’:\n",
      "\n",
      "    filter, lag\n",
      "\n",
      "The following objects are masked from ‘package:base’:\n",
      "\n",
      "    intersect, setdiff, setequal, union\n",
      "\n",
      "Registering fonts with R\n",
      "\n",
      "Attaching package: ‘scales’\n",
      "\n",
      "The following objects are masked from ‘package:readr’:\n",
      "\n",
      "    col_factor, col_numeric\n",
      "\n",
      "Note: the specification for S3 class “AsIs” in package ‘RJSONIO’ seems equivalent to one from package ‘jsonlite’: not turning on duplicate class definitions for this class.\n"
     ]
    },
    {
     "data": {
      "text/plain": [
       "R version 3.2.2 (2015-08-14)\n",
       "Platform: x86_64-apple-darwin13.4.0 (64-bit)\n",
       "Running under: OS X 10.11.1 (El Capitan)\n",
       "\n",
       "locale:\n",
       "[1] en_US.UTF-8/en_US.UTF-8/en_US.UTF-8/C/en_US.UTF-8/en_US.UTF-8\n",
       "\n",
       "attached base packages:\n",
       "[1] grid      stats     graphics  grDevices utils     datasets  methods  \n",
       "[8] base     \n",
       "\n",
       "other attached packages:\n",
       "[1] ggmap_2.5.2        stringr_1.0.0      digest_0.6.8       RColorBrewer_1.1-2\n",
       "[5] scales_0.3.0       extrafont_0.17     ggplot2_1.0.1      dplyr_0.4.3       \n",
       "[9] readr_0.1.1       \n",
       "\n",
       "loaded via a namespace (and not attached):\n",
       " [1] Rcpp_0.12.1         plyr_1.8.3          base64enc_0.1-3    \n",
       " [4] tools_3.2.2         uuid_0.1-2          jsonlite_0.9.17    \n",
       " [7] evaluate_0.8        gtable_0.1.2        lattice_0.20-33    \n",
       "[10] png_0.1-7           IRdisplay_0.3       DBI_0.3.1          \n",
       "[13] mapproj_1.2-4       IRkernel_0.5        parallel_3.2.2     \n",
       "[16] proto_0.3-10        rzmq_0.7.7          Rttf2pt1_1.3.3     \n",
       "[19] repr_0.4            maps_3.0.0-2        RgoogleMaps_1.2.0.7\n",
       "[22] R6_2.1.1            jpeg_0.1-8          RJSONIO_1.3-0      \n",
       "[25] sp_1.2-0            reshape2_1.4.1      extrafontdb_1.0    \n",
       "[28] magrittr_1.5        MASS_7.3-43         assertthat_0.1     \n",
       "[31] colorspace_1.2-6    geosphere_1.4-3     stringi_0.5-5      \n",
       "[34] munsell_0.4.2       rjson_0.2.15       "
      ]
     },
     "execution_count": 1,
     "metadata": {},
     "output_type": "execute_result"
    }
   ],
   "source": [
    "options(warn = -1)\n",
    "\n",
    "# IMPORTANT: This assumes that all packages in \"Rstart.R\" are installed,\n",
    "# and the fonts \"Source Sans Pro\" and \"Open Sans Condensed Bold\" are installed\n",
    "# via extrafont. If ggplot2 charts fail to render, you may need to change/remove the theme call.\n",
    "\n",
    "source(\"Rstart.R\")\n",
    "library(ggmap)\n",
    "\n",
    "options(repr.plot.mimetypes = 'image/png', repr.plot.width = 4, repr.plot.height = 3, repr.plot.res = 300)\n",
    "\n",
    "sessionInfo()"
   ]
  },
  {
   "cell_type": "markdown",
   "metadata": {},
   "source": [
    "## Processing the Data\n",
    "\n",
    "We load the data using `readr` and `read_csv()` since it's faster. Since there is a lot of redundant data (e.g. address, coordinates), we only load the columns we need."
   ]
  },
  {
   "cell_type": "code",
   "execution_count": 2,
   "metadata": {
    "collapsed": false
   },
   "outputs": [
    {
     "name": "stdout",
     "output_type": "stream",
     "text": [
      "\r",
      "|================================================================================| 100%  360 MB\n"
     ]
    }
   ],
   "source": [
    "path <- \"~/Downloads/SFPD_Incidents_-_from_1_January_2003.csv\"\n",
    "\n",
    "df <- read_csv(path)"
   ]
  },
  {
   "cell_type": "code",
   "execution_count": 3,
   "metadata": {
    "collapsed": false
   },
   "outputs": [
    {
     "data": {
      "text/html": [
       "<table>\n",
       "<thead><tr><th></th><th scope=col>IncidntNum</th><th scope=col>Category</th><th scope=col>Descript</th><th scope=col>DayOfWeek</th><th scope=col>Date</th><th scope=col>Time</th><th scope=col>PdDistrict</th><th scope=col>Resolution</th><th scope=col>Address</th><th scope=col>X</th><th scope=col>Y</th><th scope=col>Location</th><th scope=col>PdId</th></tr></thead>\n",
       "<tbody>\n",
       "\t<tr><th scope=row>1</th><td>150996567</td><td>BURGLARY</td><td>BURGLARY OF APARTMENT HOUSE, UNLAWFUL ENTRY</td><td>Sunday</td><td>11/15/2015</td><td>23:58</td><td>INGLESIDE</td><td>NONE</td><td>3200 Block of HARRISON ST</td><td>-122.4115</td><td>37.74605</td><td>(37.7460485796086, -122.411460219918)</td><td>1.509966e+13</td></tr>\n",
       "\t<tr><th scope=row>2</th><td>156283485</td><td>LARCENY/THEFT</td><td>PETTY THEFT OF PROPERTY</td><td>Sunday</td><td>11/15/2015</td><td>23:30</td><td>BAYVIEW</td><td>NONE</td><td>17TH ST / DEHARO ST</td><td>-122.4016</td><td>37.76484</td><td>(37.7648403636386, -122.401600659931)</td><td>1.562835e+13</td></tr>\n",
       "\t<tr><th scope=row>3</th><td>150997195</td><td>VANDALISM</td><td>MALICIOUS MISCHIEF, GRAFFITI</td><td>Sunday</td><td>11/15/2015</td><td>23:30</td><td>PARK</td><td>NONE</td><td>2500 Block of 15TH ST</td><td>-122.4378</td><td>37.76603</td><td>(37.7660311509137, -122.437848713459)</td><td>1.509972e+13</td></tr>\n",
       "\t<tr><th scope=row>4</th><td>150996501</td><td>VANDALISM</td><td>MALICIOUS MISCHIEF, VANDALISM OF VEHICLES</td><td>Sunday</td><td>11/15/2015</td><td>23:15</td><td>SOUTHERN</td><td>NONE</td><td>1ST ST / FOLSOM ST</td><td>-122.3945</td><td>37.7873</td><td>(37.7872982355244, -122.394484874311)</td><td>1.509965e+13</td></tr>\n",
       "\t<tr><th scope=row>5</th><td>150996501</td><td>SUSPICIOUS OCC</td><td>SUSPICIOUS OCCURRENCE</td><td>Sunday</td><td>11/15/2015</td><td>23:15</td><td>SOUTHERN</td><td>NONE</td><td>1ST ST / FOLSOM ST</td><td>-122.3945</td><td>37.7873</td><td>(37.7872982355244, -122.394484874311)</td><td>1.509965e+13</td></tr>\n",
       "\t<tr><th scope=row>6</th><td>156280936</td><td>LARCENY/THEFT</td><td>PETTY THEFT OF PROPERTY</td><td>Sunday</td><td>11/15/2015</td><td>23:00</td><td>NORTHERN</td><td>NONE</td><td>1800 Block of GEARY BL</td><td>-122.432</td><td>37.78425</td><td>(37.7842501079896, -122.432035315509)</td><td>1.562809e+13</td></tr>\n",
       "\t<tr><th scope=row>7</th><td>150998171</td><td>VEHICLE THEFT</td><td>STOLEN AUTOMOBILE</td><td>Sunday</td><td>11/15/2015</td><td>23:00</td><td>TARAVAL</td><td>NONE</td><td>2300 Block of 30TH AV</td><td>-122.4875</td><td>37.74345</td><td>(37.7434503392393, -122.487471191928)</td><td>1.509982e+13</td></tr>\n",
       "\t<tr><th scope=row>8</th><td>150996777</td><td>VANDALISM</td><td>MALICIOUS MISCHIEF, BREAKING WINDOWS</td><td>Sunday</td><td>11/15/2015</td><td>23:00</td><td>CENTRAL</td><td>ARREST, BOOKED</td><td>400 Block of STOCKTON ST</td><td>-122.407</td><td>37.78992</td><td>(37.789918101686, -122.406977563692)</td><td>1.509968e+13</td></tr>\n",
       "\t<tr><th scope=row>9</th><td>151001038</td><td>VEHICLE THEFT</td><td>STOLEN AUTOMOBILE</td><td>Sunday</td><td>11/15/2015</td><td>23:00</td><td>SOUTHERN</td><td>NONE</td><td>HOWARD ST / 9TH ST</td><td>-122.4132</td><td>37.77499</td><td>(37.7749926445385, -122.413163134276)</td><td>1.51001e+13</td></tr>\n",
       "\t<tr><th scope=row>10</th><td>150996498</td><td>ASSAULT</td><td>AGGRAVATED ASSAULT WITH BODILY FORCE</td><td>Sunday</td><td>11/15/2015</td><td>22:59</td><td>MISSION</td><td>NONE</td><td>3100 Block of 16TH ST</td><td>-122.4236</td><td>37.76487</td><td>(37.7648666651043, -122.423637302048)</td><td>1.509965e+13</td></tr>\n",
       "</tbody>\n",
       "</table>\n"
      ],
      "text/latex": [
       "\\begin{tabular}{r|lllllllllllll}\n",
       "  & IncidntNum & Category & Descript & DayOfWeek & Date & Time & PdDistrict & Resolution & Address & X & Y & Location & PdId\\\\\n",
       "\\hline\n",
       "\t1 & 150996567 & BURGLARY & BURGLARY OF APARTMENT HOUSE, UNLAWFUL ENTRY & Sunday & 11/15/2015 & 23:58 & INGLESIDE & NONE & 3200 Block of HARRISON ST & -122.4115 & 37.74605 & (37.7460485796086, -122.411460219918) & 1.509966e+13\\\\\n",
       "\t2 & 156283485 & LARCENY/THEFT & PETTY THEFT OF PROPERTY & Sunday & 11/15/2015 & 23:30 & BAYVIEW & NONE & 17TH ST / DEHARO ST & -122.4016 & 37.76484 & (37.7648403636386, -122.401600659931) & 1.562835e+13\\\\\n",
       "\t3 & 150997195 & VANDALISM & MALICIOUS MISCHIEF, GRAFFITI & Sunday & 11/15/2015 & 23:30 & PARK & NONE & 2500 Block of 15TH ST & -122.4378 & 37.76603 & (37.7660311509137, -122.437848713459) & 1.509972e+13\\\\\n",
       "\t4 & 150996501 & VANDALISM & MALICIOUS MISCHIEF, VANDALISM OF VEHICLES & Sunday & 11/15/2015 & 23:15 & SOUTHERN & NONE & 1ST ST / FOLSOM ST & -122.3945 & 37.7873 & (37.7872982355244, -122.394484874311) & 1.509965e+13\\\\\n",
       "\t5 & 150996501 & SUSPICIOUS OCC & SUSPICIOUS OCCURRENCE & Sunday & 11/15/2015 & 23:15 & SOUTHERN & NONE & 1ST ST / FOLSOM ST & -122.3945 & 37.7873 & (37.7872982355244, -122.394484874311) & 1.509965e+13\\\\\n",
       "\t6 & 156280936 & LARCENY/THEFT & PETTY THEFT OF PROPERTY & Sunday & 11/15/2015 & 23:00 & NORTHERN & NONE & 1800 Block of GEARY BL & -122.432 & 37.78425 & (37.7842501079896, -122.432035315509) & 1.562809e+13\\\\\n",
       "\t7 & 150998171 & VEHICLE THEFT & STOLEN AUTOMOBILE & Sunday & 11/15/2015 & 23:00 & TARAVAL & NONE & 2300 Block of 30TH AV & -122.4875 & 37.74345 & (37.7434503392393, -122.487471191928) & 1.509982e+13\\\\\n",
       "\t8 & 150996777 & VANDALISM & MALICIOUS MISCHIEF, BREAKING WINDOWS & Sunday & 11/15/2015 & 23:00 & CENTRAL & ARREST, BOOKED & 400 Block of STOCKTON ST & -122.407 & 37.78992 & (37.789918101686, -122.406977563692) & 1.509968e+13\\\\\n",
       "\t9 & 151001038 & VEHICLE THEFT & STOLEN AUTOMOBILE & Sunday & 11/15/2015 & 23:00 & SOUTHERN & NONE & HOWARD ST / 9TH ST & -122.4132 & 37.77499 & (37.7749926445385, -122.413163134276) & 1.51001e+13\\\\\n",
       "\t10 & 150996498 & ASSAULT & AGGRAVATED ASSAULT WITH BODILY FORCE & Sunday & 11/15/2015 & 22:59 & MISSION & NONE & 3100 Block of 16TH ST & -122.4236 & 37.76487 & (37.7648666651043, -122.423637302048) & 1.509965e+13\\\\\n",
       "\\end{tabular}\n"
      ],
      "text/plain": [
       "Source: local data frame [10 x 13]\n",
       "\n",
       "   IncidntNum       Category                                    Descript\n",
       "        (int)          (chr)                                       (chr)\n",
       "1   150996567       BURGLARY BURGLARY OF APARTMENT HOUSE, UNLAWFUL ENTRY\n",
       "2   156283485  LARCENY/THEFT                     PETTY THEFT OF PROPERTY\n",
       "3   150997195      VANDALISM                MALICIOUS MISCHIEF, GRAFFITI\n",
       "4   150996501      VANDALISM   MALICIOUS MISCHIEF, VANDALISM OF VEHICLES\n",
       "5   150996501 SUSPICIOUS OCC                       SUSPICIOUS OCCURRENCE\n",
       "6   156280936  LARCENY/THEFT                     PETTY THEFT OF PROPERTY\n",
       "7   150998171  VEHICLE THEFT                           STOLEN AUTOMOBILE\n",
       "8   150996777      VANDALISM        MALICIOUS MISCHIEF, BREAKING WINDOWS\n",
       "9   151001038  VEHICLE THEFT                           STOLEN AUTOMOBILE\n",
       "10  150996498        ASSAULT        AGGRAVATED ASSAULT WITH BODILY FORCE\n",
       "Variables not shown: DayOfWeek (chr), Date (chr), Time (chr), PdDistrict (chr),\n",
       "  Resolution (chr), Address (chr), X (dbl), Y (dbl), Location (chr), PdId (dbl)"
      ]
     },
     "execution_count": 3,
     "metadata": {},
     "output_type": "execute_result"
    },
    {
     "data": {
      "text/html": [
       "'# of Rows in Dataframe: 1842050'"
      ],
      "text/latex": [
       "'# of Rows in Dataframe: 1842050'"
      ],
      "text/markdown": [
       "'# of Rows in Dataframe: 1842050'"
      ],
      "text/plain": [
       "[1] \"# of Rows in Dataframe: 1842050\""
      ]
     },
     "execution_count": 3,
     "metadata": {},
     "output_type": "execute_result"
    },
    {
     "data": {
      "text/html": [
       "'Dataframe Size: 180.9 Mb'"
      ],
      "text/latex": [
       "'Dataframe Size: 180.9 Mb'"
      ],
      "text/markdown": [
       "'Dataframe Size: 180.9 Mb'"
      ],
      "text/plain": [
       "[1] \"Dataframe Size: 180.9 Mb\""
      ]
     },
     "execution_count": 3,
     "metadata": {},
     "output_type": "execute_result"
    }
   ],
   "source": [
    "df %>% head(10)\n",
    "sprintf(\"# of Rows in Dataframe: %s\", nrow(df))\n",
    "sprintf(\"Dataframe Size: %s\", format(object.size(df), units = \"MB\"))"
   ]
  },
  {
   "cell_type": "code",
   "execution_count": 4,
   "metadata": {
    "collapsed": false
   },
   "outputs": [
    {
     "data": {
      "text/html": [
       "<table>\n",
       "<thead><tr><th></th><th scope=col>Category</th><th scope=col>Descript</th><th scope=col>DayOfWeek</th><th scope=col>Date</th><th scope=col>Time</th><th scope=col>PdDistrict</th><th scope=col>Resolution</th><th scope=col>X</th><th scope=col>Y</th></tr></thead>\n",
       "<tbody>\n",
       "\t<tr><th scope=row>1</th><td>BURGLARY</td><td>BURGLARY OF APARTMENT HOUSE, UNLAWFUL ENTRY</td><td>Sunday</td><td>11/15/2015</td><td>23:58</td><td>INGLESIDE</td><td>NONE</td><td>-122.4115</td><td>37.74605</td></tr>\n",
       "\t<tr><th scope=row>2</th><td>LARCENY/THEFT</td><td>PETTY THEFT OF PROPERTY</td><td>Sunday</td><td>11/15/2015</td><td>23:30</td><td>BAYVIEW</td><td>NONE</td><td>-122.4016</td><td>37.76484</td></tr>\n",
       "\t<tr><th scope=row>3</th><td>VANDALISM</td><td>MALICIOUS MISCHIEF, GRAFFITI</td><td>Sunday</td><td>11/15/2015</td><td>23:30</td><td>PARK</td><td>NONE</td><td>-122.4378</td><td>37.76603</td></tr>\n",
       "\t<tr><th scope=row>4</th><td>VANDALISM</td><td>MALICIOUS MISCHIEF, VANDALISM OF VEHICLES</td><td>Sunday</td><td>11/15/2015</td><td>23:15</td><td>SOUTHERN</td><td>NONE</td><td>-122.3945</td><td>37.7873</td></tr>\n",
       "\t<tr><th scope=row>5</th><td>SUSPICIOUS OCC</td><td>SUSPICIOUS OCCURRENCE</td><td>Sunday</td><td>11/15/2015</td><td>23:15</td><td>SOUTHERN</td><td>NONE</td><td>-122.3945</td><td>37.7873</td></tr>\n",
       "\t<tr><th scope=row>6</th><td>LARCENY/THEFT</td><td>PETTY THEFT OF PROPERTY</td><td>Sunday</td><td>11/15/2015</td><td>23:00</td><td>NORTHERN</td><td>NONE</td><td>-122.432</td><td>37.78425</td></tr>\n",
       "\t<tr><th scope=row>7</th><td>VEHICLE THEFT</td><td>STOLEN AUTOMOBILE</td><td>Sunday</td><td>11/15/2015</td><td>23:00</td><td>TARAVAL</td><td>NONE</td><td>-122.4875</td><td>37.74345</td></tr>\n",
       "\t<tr><th scope=row>8</th><td>VANDALISM</td><td>MALICIOUS MISCHIEF, BREAKING WINDOWS</td><td>Sunday</td><td>11/15/2015</td><td>23:00</td><td>CENTRAL</td><td>ARREST, BOOKED</td><td>-122.407</td><td>37.78992</td></tr>\n",
       "\t<tr><th scope=row>9</th><td>VEHICLE THEFT</td><td>STOLEN AUTOMOBILE</td><td>Sunday</td><td>11/15/2015</td><td>23:00</td><td>SOUTHERN</td><td>NONE</td><td>-122.4132</td><td>37.77499</td></tr>\n",
       "\t<tr><th scope=row>10</th><td>ASSAULT</td><td>AGGRAVATED ASSAULT WITH BODILY FORCE</td><td>Sunday</td><td>11/15/2015</td><td>22:59</td><td>MISSION</td><td>NONE</td><td>-122.4236</td><td>37.76487</td></tr>\n",
       "</tbody>\n",
       "</table>\n"
      ],
      "text/latex": [
       "\\begin{tabular}{r|lllllllll}\n",
       "  & Category & Descript & DayOfWeek & Date & Time & PdDistrict & Resolution & X & Y\\\\\n",
       "\\hline\n",
       "\t1 & BURGLARY & BURGLARY OF APARTMENT HOUSE, UNLAWFUL ENTRY & Sunday & 11/15/2015 & 23:58 & INGLESIDE & NONE & -122.4115 & 37.74605\\\\\n",
       "\t2 & LARCENY/THEFT & PETTY THEFT OF PROPERTY & Sunday & 11/15/2015 & 23:30 & BAYVIEW & NONE & -122.4016 & 37.76484\\\\\n",
       "\t3 & VANDALISM & MALICIOUS MISCHIEF, GRAFFITI & Sunday & 11/15/2015 & 23:30 & PARK & NONE & -122.4378 & 37.76603\\\\\n",
       "\t4 & VANDALISM & MALICIOUS MISCHIEF, VANDALISM OF VEHICLES & Sunday & 11/15/2015 & 23:15 & SOUTHERN & NONE & -122.3945 & 37.7873\\\\\n",
       "\t5 & SUSPICIOUS OCC & SUSPICIOUS OCCURRENCE & Sunday & 11/15/2015 & 23:15 & SOUTHERN & NONE & -122.3945 & 37.7873\\\\\n",
       "\t6 & LARCENY/THEFT & PETTY THEFT OF PROPERTY & Sunday & 11/15/2015 & 23:00 & NORTHERN & NONE & -122.432 & 37.78425\\\\\n",
       "\t7 & VEHICLE THEFT & STOLEN AUTOMOBILE & Sunday & 11/15/2015 & 23:00 & TARAVAL & NONE & -122.4875 & 37.74345\\\\\n",
       "\t8 & VANDALISM & MALICIOUS MISCHIEF, BREAKING WINDOWS & Sunday & 11/15/2015 & 23:00 & CENTRAL & ARREST, BOOKED & -122.407 & 37.78992\\\\\n",
       "\t9 & VEHICLE THEFT & STOLEN AUTOMOBILE & Sunday & 11/15/2015 & 23:00 & SOUTHERN & NONE & -122.4132 & 37.77499\\\\\n",
       "\t10 & ASSAULT & AGGRAVATED ASSAULT WITH BODILY FORCE & Sunday & 11/15/2015 & 22:59 & MISSION & NONE & -122.4236 & 37.76487\\\\\n",
       "\\end{tabular}\n"
      ],
      "text/plain": [
       "Source: local data frame [10 x 9]\n",
       "\n",
       "         Category                                    Descript DayOfWeek\n",
       "            (chr)                                       (chr)     (chr)\n",
       "1        BURGLARY BURGLARY OF APARTMENT HOUSE, UNLAWFUL ENTRY    Sunday\n",
       "2   LARCENY/THEFT                     PETTY THEFT OF PROPERTY    Sunday\n",
       "3       VANDALISM                MALICIOUS MISCHIEF, GRAFFITI    Sunday\n",
       "4       VANDALISM   MALICIOUS MISCHIEF, VANDALISM OF VEHICLES    Sunday\n",
       "5  SUSPICIOUS OCC                       SUSPICIOUS OCCURRENCE    Sunday\n",
       "6   LARCENY/THEFT                     PETTY THEFT OF PROPERTY    Sunday\n",
       "7   VEHICLE THEFT                           STOLEN AUTOMOBILE    Sunday\n",
       "8       VANDALISM        MALICIOUS MISCHIEF, BREAKING WINDOWS    Sunday\n",
       "9   VEHICLE THEFT                           STOLEN AUTOMOBILE    Sunday\n",
       "10        ASSAULT        AGGRAVATED ASSAULT WITH BODILY FORCE    Sunday\n",
       "Variables not shown: Date (chr), Time (chr), PdDistrict (chr), Resolution\n",
       "  (chr), X (dbl), Y (dbl)"
      ]
     },
     "execution_count": 4,
     "metadata": {},
     "output_type": "execute_result"
    },
    {
     "data": {
      "text/html": [
       "'# of Rows in Dataframe: 1842050'"
      ],
      "text/latex": [
       "'# of Rows in Dataframe: 1842050'"
      ],
      "text/markdown": [
       "'# of Rows in Dataframe: 1842050'"
      ],
      "text/plain": [
       "[1] \"# of Rows in Dataframe: 1842050\""
      ]
     },
     "execution_count": 4,
     "metadata": {},
     "output_type": "execute_result"
    },
    {
     "data": {
      "text/html": [
       "'Dataframe Size: 126.9 Mb'"
      ],
      "text/latex": [
       "'Dataframe Size: 126.9 Mb'"
      ],
      "text/markdown": [
       "'Dataframe Size: 126.9 Mb'"
      ],
      "text/plain": [
       "[1] \"Dataframe Size: 126.9 Mb\""
      ]
     },
     "execution_count": 4,
     "metadata": {},
     "output_type": "execute_result"
    }
   ],
   "source": [
    "columns = c(\"Category\", \"Descript\", \"DayOfWeek\", \"Date\", \"Time\", \"PdDistrict\", \"Resolution\", \"X\", \"Y\")\n",
    "\n",
    "# select() requires column indices, so use which() to find them\n",
    "df <- df %>% select(which(names(df) %in% columns))\n",
    "\n",
    "df %>% head(10)\n",
    "sprintf(\"# of Rows in Dataframe: %s\", nrow(df))\n",
    "sprintf(\"Dataframe Size: %s\", format(object.size(df), units = \"MB\"))"
   ]
  },
  {
   "cell_type": "markdown",
   "metadata": {},
   "source": [
    "The All-Caps text is ugly: let's force the text in the appropriate columns into proper case. (see [this Stack Overflow question](http://stackoverflow.com/questions/15776732/how-to-convert-a-vector-of-strings-to-title-case))"
   ]
  },
  {
   "cell_type": "code",
   "execution_count": 5,
   "metadata": {
    "collapsed": false
   },
   "outputs": [
    {
     "data": {
      "text/html": [
       "<table>\n",
       "<thead><tr><th></th><th scope=col>Category</th><th scope=col>Descript</th><th scope=col>DayOfWeek</th><th scope=col>Date</th><th scope=col>Time</th><th scope=col>PdDistrict</th><th scope=col>Resolution</th><th scope=col>X</th><th scope=col>Y</th></tr></thead>\n",
       "<tbody>\n",
       "\t<tr><th scope=row>1</th><td>Burglary</td><td>Burglary Of Apartment House, Unlawful Entry</td><td>Sunday</td><td>11/15/2015</td><td>23:58</td><td>Ingleside</td><td>None</td><td>-122.4115</td><td>37.74605</td></tr>\n",
       "\t<tr><th scope=row>2</th><td>Larceny/Theft</td><td>Petty Theft Of Property</td><td>Sunday</td><td>11/15/2015</td><td>23:30</td><td>Bayview</td><td>None</td><td>-122.4016</td><td>37.76484</td></tr>\n",
       "\t<tr><th scope=row>3</th><td>Vandalism</td><td>Malicious Mischief, Graffiti</td><td>Sunday</td><td>11/15/2015</td><td>23:30</td><td>Park</td><td>None</td><td>-122.4378</td><td>37.76603</td></tr>\n",
       "\t<tr><th scope=row>4</th><td>Vandalism</td><td>Malicious Mischief, Vandalism Of Vehicles</td><td>Sunday</td><td>11/15/2015</td><td>23:15</td><td>Southern</td><td>None</td><td>-122.3945</td><td>37.7873</td></tr>\n",
       "\t<tr><th scope=row>5</th><td>Suspicious Occ</td><td>Suspicious Occurrence</td><td>Sunday</td><td>11/15/2015</td><td>23:15</td><td>Southern</td><td>None</td><td>-122.3945</td><td>37.7873</td></tr>\n",
       "\t<tr><th scope=row>6</th><td>Larceny/Theft</td><td>Petty Theft Of Property</td><td>Sunday</td><td>11/15/2015</td><td>23:00</td><td>Northern</td><td>None</td><td>-122.432</td><td>37.78425</td></tr>\n",
       "\t<tr><th scope=row>7</th><td>Vehicle Theft</td><td>Stolen Automobile</td><td>Sunday</td><td>11/15/2015</td><td>23:00</td><td>Taraval</td><td>None</td><td>-122.4875</td><td>37.74345</td></tr>\n",
       "\t<tr><th scope=row>8</th><td>Vandalism</td><td>Malicious Mischief, Breaking Windows</td><td>Sunday</td><td>11/15/2015</td><td>23:00</td><td>Central</td><td>Arrest, Booked</td><td>-122.407</td><td>37.78992</td></tr>\n",
       "\t<tr><th scope=row>9</th><td>Vehicle Theft</td><td>Stolen Automobile</td><td>Sunday</td><td>11/15/2015</td><td>23:00</td><td>Southern</td><td>None</td><td>-122.4132</td><td>37.77499</td></tr>\n",
       "\t<tr><th scope=row>10</th><td>Assault</td><td>Aggravated Assault With Bodily Force</td><td>Sunday</td><td>11/15/2015</td><td>22:59</td><td>Mission</td><td>None</td><td>-122.4236</td><td>37.76487</td></tr>\n",
       "</tbody>\n",
       "</table>\n"
      ],
      "text/latex": [
       "\\begin{tabular}{r|lllllllll}\n",
       "  & Category & Descript & DayOfWeek & Date & Time & PdDistrict & Resolution & X & Y\\\\\n",
       "\\hline\n",
       "\t1 & Burglary & Burglary Of Apartment House, Unlawful Entry & Sunday & 11/15/2015 & 23:58 & Ingleside & None & -122.4115 & 37.74605\\\\\n",
       "\t2 & Larceny/Theft & Petty Theft Of Property & Sunday & 11/15/2015 & 23:30 & Bayview & None & -122.4016 & 37.76484\\\\\n",
       "\t3 & Vandalism & Malicious Mischief, Graffiti & Sunday & 11/15/2015 & 23:30 & Park & None & -122.4378 & 37.76603\\\\\n",
       "\t4 & Vandalism & Malicious Mischief, Vandalism Of Vehicles & Sunday & 11/15/2015 & 23:15 & Southern & None & -122.3945 & 37.7873\\\\\n",
       "\t5 & Suspicious Occ & Suspicious Occurrence & Sunday & 11/15/2015 & 23:15 & Southern & None & -122.3945 & 37.7873\\\\\n",
       "\t6 & Larceny/Theft & Petty Theft Of Property & Sunday & 11/15/2015 & 23:00 & Northern & None & -122.432 & 37.78425\\\\\n",
       "\t7 & Vehicle Theft & Stolen Automobile & Sunday & 11/15/2015 & 23:00 & Taraval & None & -122.4875 & 37.74345\\\\\n",
       "\t8 & Vandalism & Malicious Mischief, Breaking Windows & Sunday & 11/15/2015 & 23:00 & Central & Arrest, Booked & -122.407 & 37.78992\\\\\n",
       "\t9 & Vehicle Theft & Stolen Automobile & Sunday & 11/15/2015 & 23:00 & Southern & None & -122.4132 & 37.77499\\\\\n",
       "\t10 & Assault & Aggravated Assault With Bodily Force & Sunday & 11/15/2015 & 22:59 & Mission & None & -122.4236 & 37.76487\\\\\n",
       "\\end{tabular}\n"
      ],
      "text/plain": [
       "Source: local data frame [10 x 9]\n",
       "\n",
       "         Category                                    Descript DayOfWeek\n",
       "            (chr)                                       (chr)     (chr)\n",
       "1        Burglary Burglary Of Apartment House, Unlawful Entry    Sunday\n",
       "2   Larceny/Theft                     Petty Theft Of Property    Sunday\n",
       "3       Vandalism                Malicious Mischief, Graffiti    Sunday\n",
       "4       Vandalism   Malicious Mischief, Vandalism Of Vehicles    Sunday\n",
       "5  Suspicious Occ                       Suspicious Occurrence    Sunday\n",
       "6   Larceny/Theft                     Petty Theft Of Property    Sunday\n",
       "7   Vehicle Theft                           Stolen Automobile    Sunday\n",
       "8       Vandalism        Malicious Mischief, Breaking Windows    Sunday\n",
       "9   Vehicle Theft                           Stolen Automobile    Sunday\n",
       "10        Assault        Aggravated Assault With Bodily Force    Sunday\n",
       "Variables not shown: Date (chr), Time (chr), PdDistrict (chr), Resolution\n",
       "  (chr), X (dbl), Y (dbl)"
      ]
     },
     "execution_count": 5,
     "metadata": {},
     "output_type": "execute_result"
    }
   ],
   "source": [
    "proper_case <- function(x) {\n",
    "    return (gsub(\"\\\\b([A-Z])([A-Z]+)\", \"\\\\U\\\\1\\\\L\\\\2\" , x, perl = TRUE))\n",
    "}\n",
    "\n",
    "df <- df %>% mutate(Category = proper_case(Category),\n",
    "                 Descript = proper_case(Descript),\n",
    "                 PdDistrict = proper_case(PdDistrict),\n",
    "                 Resolution = proper_case(Resolution))\n",
    "\n",
    "df %>% head(10)"
   ]
  },
  {
   "cell_type": "markdown",
   "metadata": {},
   "source": [
    "# Filtering the Data\n",
    "\n",
    "Let's filter `df` by Arrests to aggregate some intersting statistics."
   ]
  },
  {
   "cell_type": "code",
   "execution_count": 6,
   "metadata": {
    "collapsed": false
   },
   "outputs": [
    {
     "data": {
      "text/html": [
       "<table>\n",
       "<thead><tr><th></th><th scope=col>Category</th><th scope=col>Descript</th><th scope=col>DayOfWeek</th><th scope=col>Date</th><th scope=col>Time</th><th scope=col>PdDistrict</th><th scope=col>Resolution</th><th scope=col>X</th><th scope=col>Y</th></tr></thead>\n",
       "<tbody>\n",
       "\t<tr><th scope=row>1</th><td>Vandalism</td><td>Malicious Mischief, Breaking Windows</td><td>Sunday</td><td>11/15/2015</td><td>23:00</td><td>Central</td><td>Arrest, Booked</td><td>-122.407</td><td>37.78992</td></tr>\n",
       "\t<tr><th scope=row>2</th><td>Assault</td><td>Battery</td><td>Sunday</td><td>11/15/2015</td><td>22:53</td><td>Northern</td><td>Arrest, Booked</td><td>-122.4187</td><td>37.78501</td></tr>\n",
       "\t<tr><th scope=row>3</th><td>Assault</td><td>Child Abuse (Physical)</td><td>Sunday</td><td>11/15/2015</td><td>22:53</td><td>Northern</td><td>Arrest, Booked</td><td>-122.4187</td><td>37.78501</td></tr>\n",
       "\t<tr><th scope=row>4</th><td>Other Offenses</td><td>Drivers License, Suspended Or Revoked</td><td>Sunday</td><td>11/15/2015</td><td>22:35</td><td>Southern</td><td>Arrest, Booked</td><td>-122.412</td><td>37.7809</td></tr>\n",
       "\t<tr><th scope=row>5</th><td>Stolen Property</td><td>Stolen Property, Possession With Knowledge, Receiving</td><td>Sunday</td><td>11/15/2015</td><td>22:20</td><td>Central</td><td>Arrest, Booked</td><td>-122.4185</td><td>37.80615</td></tr>\n",
       "\t<tr><th scope=row>6</th><td>Other Offenses</td><td>Tampering With A Vehicle</td><td>Sunday</td><td>11/15/2015</td><td>22:20</td><td>Central</td><td>Arrest, Booked</td><td>-122.4185</td><td>37.80615</td></tr>\n",
       "\t<tr><th scope=row>7</th><td>Warrants</td><td>Enroute To Department Of Corrections</td><td>Sunday</td><td>11/15/2015</td><td>22:20</td><td>Central</td><td>Arrest, Booked</td><td>-122.4185</td><td>37.80615</td></tr>\n",
       "\t<tr><th scope=row>8</th><td>Secondary Codes</td><td>Domestic Violence</td><td>Sunday</td><td>11/15/2015</td><td>22:00</td><td>Northern</td><td>Arrest, Booked</td><td>-122.4385</td><td>37.79941</td></tr>\n",
       "\t<tr><th scope=row>9</th><td>Assault</td><td>Threats Against Life</td><td>Sunday</td><td>11/15/2015</td><td>22:00</td><td>Northern</td><td>Arrest, Booked</td><td>-122.4385</td><td>37.79941</td></tr>\n",
       "\t<tr><th scope=row>10</th><td>Larceny/Theft</td><td>Lost Property, Petty Theft</td><td>Sunday</td><td>11/15/2015</td><td>21:40</td><td>Central</td><td>Arrest, Booked</td><td>-122.4185</td><td>37.80615</td></tr>\n",
       "</tbody>\n",
       "</table>\n"
      ],
      "text/latex": [
       "\\begin{tabular}{r|lllllllll}\n",
       "  & Category & Descript & DayOfWeek & Date & Time & PdDistrict & Resolution & X & Y\\\\\n",
       "\\hline\n",
       "\t1 & Vandalism & Malicious Mischief, Breaking Windows & Sunday & 11/15/2015 & 23:00 & Central & Arrest, Booked & -122.407 & 37.78992\\\\\n",
       "\t2 & Assault & Battery & Sunday & 11/15/2015 & 22:53 & Northern & Arrest, Booked & -122.4187 & 37.78501\\\\\n",
       "\t3 & Assault & Child Abuse (Physical) & Sunday & 11/15/2015 & 22:53 & Northern & Arrest, Booked & -122.4187 & 37.78501\\\\\n",
       "\t4 & Other Offenses & Drivers License, Suspended Or Revoked & Sunday & 11/15/2015 & 22:35 & Southern & Arrest, Booked & -122.412 & 37.7809\\\\\n",
       "\t5 & Stolen Property & Stolen Property, Possession With Knowledge, Receiving & Sunday & 11/15/2015 & 22:20 & Central & Arrest, Booked & -122.4185 & 37.80615\\\\\n",
       "\t6 & Other Offenses & Tampering With A Vehicle & Sunday & 11/15/2015 & 22:20 & Central & Arrest, Booked & -122.4185 & 37.80615\\\\\n",
       "\t7 & Warrants & Enroute To Department Of Corrections & Sunday & 11/15/2015 & 22:20 & Central & Arrest, Booked & -122.4185 & 37.80615\\\\\n",
       "\t8 & Secondary Codes & Domestic Violence & Sunday & 11/15/2015 & 22:00 & Northern & Arrest, Booked & -122.4385 & 37.79941\\\\\n",
       "\t9 & Assault & Threats Against Life & Sunday & 11/15/2015 & 22:00 & Northern & Arrest, Booked & -122.4385 & 37.79941\\\\\n",
       "\t10 & Larceny/Theft & Lost Property, Petty Theft & Sunday & 11/15/2015 & 21:40 & Central & Arrest, Booked & -122.4185 & 37.80615\\\\\n",
       "\\end{tabular}\n"
      ],
      "text/plain": [
       "Source: local data frame [10 x 9]\n",
       "\n",
       "          Category                                              Descript\n",
       "             (chr)                                                 (chr)\n",
       "1        Vandalism                  Malicious Mischief, Breaking Windows\n",
       "2          Assault                                               Battery\n",
       "3          Assault                                Child Abuse (Physical)\n",
       "4   Other Offenses                 Drivers License, Suspended Or Revoked\n",
       "5  Stolen Property Stolen Property, Possession With Knowledge, Receiving\n",
       "6   Other Offenses                              Tampering With A Vehicle\n",
       "7         Warrants                  Enroute To Department Of Corrections\n",
       "8  Secondary Codes                                     Domestic Violence\n",
       "9          Assault                                  Threats Against Life\n",
       "10   Larceny/Theft                            Lost Property, Petty Theft\n",
       "Variables not shown: DayOfWeek (chr), Date (chr), Time (chr), PdDistrict (chr),\n",
       "  Resolution (chr), X (dbl), Y (dbl)"
      ]
     },
     "execution_count": 6,
     "metadata": {},
     "output_type": "execute_result"
    },
    {
     "data": {
      "text/html": [
       "'# of Rows in Dataframe: 587499'"
      ],
      "text/latex": [
       "'# of Rows in Dataframe: 587499'"
      ],
      "text/markdown": [
       "'# of Rows in Dataframe: 587499'"
      ],
      "text/plain": [
       "[1] \"# of Rows in Dataframe: 587499\""
      ]
     },
     "execution_count": 6,
     "metadata": {},
     "output_type": "execute_result"
    },
    {
     "data": {
      "text/html": [
       "'Dataframe Size: 40.7 Mb'"
      ],
      "text/latex": [
       "'Dataframe Size: 40.7 Mb'"
      ],
      "text/markdown": [
       "'Dataframe Size: 40.7 Mb'"
      ],
      "text/plain": [
       "[1] \"Dataframe Size: 40.7 Mb\""
      ]
     },
     "execution_count": 6,
     "metadata": {},
     "output_type": "execute_result"
    }
   ],
   "source": [
    "# grepl() is the best way to do in-text search\n",
    "df_arrest <- df %>% filter(grepl(\"Arrest\", Resolution))\n",
    "\n",
    "df_arrest %>% head(10)\n",
    "sprintf(\"# of Rows in Dataframe: %s\", nrow(df_arrest))\n",
    "sprintf(\"Dataframe Size: %s\", format(object.size(df_arrest), units = \"MB\"))"
   ]
  },
  {
   "cell_type": "markdown",
   "metadata": {},
   "source": [
    "# Crime Over Time\n",
    "\n",
    "Create a chart of crimes over time."
   ]
  },
  {
   "cell_type": "code",
   "execution_count": 7,
   "metadata": {
    "collapsed": false
   },
   "outputs": [
    {
     "data": {
      "text/html": [
       "<table>\n",
       "<thead><tr><th></th><th scope=col>Date</th><th scope=col>count</th></tr></thead>\n",
       "<tbody>\n",
       "\t<tr><th scope=row>1</th><td>2003-01-01</td><td>172</td></tr>\n",
       "\t<tr><th scope=row>2</th><td>2003-01-02</td><td>144</td></tr>\n",
       "\t<tr><th scope=row>3</th><td>2003-01-03</td><td>191</td></tr>\n",
       "\t<tr><th scope=row>4</th><td>2003-01-04</td><td>123</td></tr>\n",
       "\t<tr><th scope=row>5</th><td>2003-01-05</td><td>161</td></tr>\n",
       "\t<tr><th scope=row>6</th><td>2003-01-06</td><td>184</td></tr>\n",
       "\t<tr><th scope=row>7</th><td>2003-01-07</td><td>181</td></tr>\n",
       "\t<tr><th scope=row>8</th><td>2003-01-08</td><td>233</td></tr>\n",
       "\t<tr><th scope=row>9</th><td>2003-01-09</td><td>183</td></tr>\n",
       "\t<tr><th scope=row>10</th><td>2003-01-10</td><td>135</td></tr>\n",
       "</tbody>\n",
       "</table>\n"
      ],
      "text/latex": [
       "\\begin{tabular}{r|ll}\n",
       "  & Date & count\\\\\n",
       "\\hline\n",
       "\t1 & 2003-01-01 & 172\\\\\n",
       "\t2 & 2003-01-02 & 144\\\\\n",
       "\t3 & 2003-01-03 & 191\\\\\n",
       "\t4 & 2003-01-04 & 123\\\\\n",
       "\t5 & 2003-01-05 & 161\\\\\n",
       "\t6 & 2003-01-06 & 184\\\\\n",
       "\t7 & 2003-01-07 & 181\\\\\n",
       "\t8 & 2003-01-08 & 233\\\\\n",
       "\t9 & 2003-01-09 & 183\\\\\n",
       "\t10 & 2003-01-10 & 135\\\\\n",
       "\\end{tabular}\n"
      ],
      "text/plain": [
       "Source: local data frame [10 x 2]\n",
       "\n",
       "         Date count\n",
       "       (date) (int)\n",
       "1  2003-01-01   172\n",
       "2  2003-01-02   144\n",
       "3  2003-01-03   191\n",
       "4  2003-01-04   123\n",
       "5  2003-01-05   161\n",
       "6  2003-01-06   184\n",
       "7  2003-01-07   181\n",
       "8  2003-01-08   233\n",
       "9  2003-01-09   183\n",
       "10 2003-01-10   135"
      ]
     },
     "execution_count": 7,
     "metadata": {},
     "output_type": "execute_result"
    }
   ],
   "source": [
    "df_arrest_daily <- df_arrest %>%\n",
    "                    mutate(Date = as.Date(Date, \"%m/%d/%Y\")) %>%\n",
    "                    group_by(Date) %>% \n",
    "                    summarize(count = n()) %>%\n",
    "                    arrange(Date)\n",
    "\n",
    "df_arrest_daily %>% head(10)"
   ]
  },
  {
   "cell_type": "code",
   "execution_count": 8,
   "metadata": {
    "collapsed": false
   },
   "outputs": [
    {
     "name": "stderr",
     "output_type": "stream",
     "text": [
      "geom_smooth: method=\"auto\" and size of largest group is >=1000, so using gam with formula: y ~ s(x, bs = \"cs\"). Use 'method = x' to change the smoothing method.\n"
     ]
    }
   ],
   "source": [
    "plot <- ggplot(df_arrest_daily, aes(x = Date, y = count)) +\n",
    "    geom_line(color = \"#F2CA27\", size = 0.1) +\n",
    "    geom_smooth(color = \"#1A1A1A\") +\n",
    "    fte_theme() +\n",
    "    scale_x_date(breaks = date_breaks(\"2 years\"), labels = date_format(\"%Y\")) +\n",
    "    labs(x = \"Date of Arrest\", y = \"# of Police Arrests\", title = \"Daily Police Arrests in San Francisco from 2003 – 2015\")\n",
    "\n",
    "max_save(plot, \"sf-arrest-when-1\", \"SF OpenData\")"
   ]
  },
  {
   "cell_type": "markdown",
   "metadata": {},
   "source": [
    "![](sf-arrest-when-1.png)"
   ]
  },
  {
   "cell_type": "markdown",
   "metadata": {},
   "source": [
    "# Crime Time Heatmap\n",
    "\n",
    "Aggregate counts of arrests by Day-of-Week and Time to create heat map. Fortunately, the Day-Of-Week part is pre-derived, but Hour is slightly harder."
   ]
  },
  {
   "cell_type": "code",
   "execution_count": 9,
   "metadata": {
    "collapsed": false
   },
   "outputs": [
    {
     "data": {
      "text/html": [
       "<table>\n",
       "<thead><tr><th></th><th scope=col>DayOfWeek</th><th scope=col>Hour</th><th scope=col>count</th></tr></thead>\n",
       "<tbody>\n",
       "\t<tr><th scope=row>1</th><td>Friday</td><td>0</td><td>3670</td></tr>\n",
       "\t<tr><th scope=row>2</th><td>Friday</td><td>1</td><td>2627</td></tr>\n",
       "\t<tr><th scope=row>3</th><td>Friday</td><td>2</td><td>2277</td></tr>\n",
       "\t<tr><th scope=row>4</th><td>Friday</td><td>3</td><td>1399</td></tr>\n",
       "\t<tr><th scope=row>5</th><td>Friday</td><td>4</td><td>986</td></tr>\n",
       "\t<tr><th scope=row>6</th><td>Friday</td><td>5</td><td>879</td></tr>\n",
       "\t<tr><th scope=row>7</th><td>Friday</td><td>6</td><td>1294</td></tr>\n",
       "\t<tr><th scope=row>8</th><td>Friday</td><td>7</td><td>2283</td></tr>\n",
       "\t<tr><th scope=row>9</th><td>Friday</td><td>8</td><td>2873</td></tr>\n",
       "\t<tr><th scope=row>10</th><td>Friday</td><td>9</td><td>3227</td></tr>\n",
       "</tbody>\n",
       "</table>\n"
      ],
      "text/latex": [
       "\\begin{tabular}{r|lll}\n",
       "  & DayOfWeek & Hour & count\\\\\n",
       "\\hline\n",
       "\t1 & Friday & 0 & 3670\\\\\n",
       "\t2 & Friday & 1 & 2627\\\\\n",
       "\t3 & Friday & 2 & 2277\\\\\n",
       "\t4 & Friday & 3 & 1399\\\\\n",
       "\t5 & Friday & 4 & 986\\\\\n",
       "\t6 & Friday & 5 & 879\\\\\n",
       "\t7 & Friday & 6 & 1294\\\\\n",
       "\t8 & Friday & 7 & 2283\\\\\n",
       "\t9 & Friday & 8 & 2873\\\\\n",
       "\t10 & Friday & 9 & 3227\\\\\n",
       "\\end{tabular}\n"
      ],
      "text/plain": [
       "Source: local data frame [10 x 3]\n",
       "Groups: DayOfWeek [1]\n",
       "\n",
       "   DayOfWeek  Hour count\n",
       "       (chr) (dbl) (int)\n",
       "1     Friday     0  3670\n",
       "2     Friday     1  2627\n",
       "3     Friday     2  2277\n",
       "4     Friday     3  1399\n",
       "5     Friday     4   986\n",
       "6     Friday     5   879\n",
       "7     Friday     6  1294\n",
       "8     Friday     7  2283\n",
       "9     Friday     8  2873\n",
       "10    Friday     9  3227"
      ]
     },
     "execution_count": 9,
     "metadata": {},
     "output_type": "execute_result"
    }
   ],
   "source": [
    "# Returns the numeric hour component of a string formatted \"HH:MM\", e.g. \"09:40\" input returns 9\n",
    "get_hour <- function(x) {\n",
    "    return (as.numeric(strsplit(x,\":\")[[1]][1]))\n",
    "}\n",
    "\n",
    "df_arrest_time <- df_arrest %>%\n",
    "                    mutate(Hour = sapply(Time, get_hour)) %>%\n",
    "                    group_by(DayOfWeek, Hour) %>% \n",
    "                    summarize(count = n())\n",
    "\n",
    "df_arrest_time %>% head(10)"
   ]
  },
  {
   "cell_type": "markdown",
   "metadata": {},
   "source": [
    "Reorder and format Factors."
   ]
  },
  {
   "cell_type": "code",
   "execution_count": 10,
   "metadata": {
    "collapsed": false
   },
   "outputs": [
    {
     "data": {
      "text/html": [
       "<table>\n",
       "<thead><tr><th></th><th scope=col>DayOfWeek</th><th scope=col>Hour</th><th scope=col>count</th></tr></thead>\n",
       "<tbody>\n",
       "\t<tr><th scope=row>1</th><td>Friday</td><td>12 AM</td><td>3670</td></tr>\n",
       "\t<tr><th scope=row>2</th><td>Friday</td><td>1 AM</td><td>2627</td></tr>\n",
       "\t<tr><th scope=row>3</th><td>Friday</td><td>2 AM</td><td>2277</td></tr>\n",
       "\t<tr><th scope=row>4</th><td>Friday</td><td>3 AM</td><td>1399</td></tr>\n",
       "\t<tr><th scope=row>5</th><td>Friday</td><td>4 AM</td><td>986</td></tr>\n",
       "\t<tr><th scope=row>6</th><td>Friday</td><td>5 AM</td><td>879</td></tr>\n",
       "\t<tr><th scope=row>7</th><td>Friday</td><td>6 AM</td><td>1294</td></tr>\n",
       "\t<tr><th scope=row>8</th><td>Friday</td><td>7 AM</td><td>2283</td></tr>\n",
       "\t<tr><th scope=row>9</th><td>Friday</td><td>8 AM</td><td>2873</td></tr>\n",
       "\t<tr><th scope=row>10</th><td>Friday</td><td>9 AM</td><td>3227</td></tr>\n",
       "</tbody>\n",
       "</table>\n"
      ],
      "text/latex": [
       "\\begin{tabular}{r|lll}\n",
       "  & DayOfWeek & Hour & count\\\\\n",
       "\\hline\n",
       "\t1 & Friday & 12 AM & 3670\\\\\n",
       "\t2 & Friday & 1 AM & 2627\\\\\n",
       "\t3 & Friday & 2 AM & 2277\\\\\n",
       "\t4 & Friday & 3 AM & 1399\\\\\n",
       "\t5 & Friday & 4 AM & 986\\\\\n",
       "\t6 & Friday & 5 AM & 879\\\\\n",
       "\t7 & Friday & 6 AM & 1294\\\\\n",
       "\t8 & Friday & 7 AM & 2283\\\\\n",
       "\t9 & Friday & 8 AM & 2873\\\\\n",
       "\t10 & Friday & 9 AM & 3227\\\\\n",
       "\\end{tabular}\n"
      ],
      "text/plain": [
       "Source: local data frame [10 x 3]\n",
       "Groups: DayOfWeek [1]\n",
       "\n",
       "   DayOfWeek   Hour count\n",
       "      (fctr) (fctr) (int)\n",
       "1     Friday  12 AM  3670\n",
       "2     Friday   1 AM  2627\n",
       "3     Friday   2 AM  2277\n",
       "4     Friday   3 AM  1399\n",
       "5     Friday   4 AM   986\n",
       "6     Friday   5 AM   879\n",
       "7     Friday   6 AM  1294\n",
       "8     Friday   7 AM  2283\n",
       "9     Friday   8 AM  2873\n",
       "10    Friday   9 AM  3227"
      ]
     },
     "execution_count": 10,
     "metadata": {},
     "output_type": "execute_result"
    }
   ],
   "source": [
    "dow_format <- c(\"Sunday\",\"Monday\",\"Tuesday\",\"Wednesday\",\"Thursday\",\"Friday\",\"Saturday\")\n",
    "hour_format <- c(paste(c(12,1:11),\"AM\"), paste(c(12,1:11),\"PM\"))\n",
    "\n",
    "df_arrest_time$DayOfWeek <- factor(df_arrest_time$DayOfWeek, level = rev(dow_format))\n",
    "df_arrest_time$Hour <- factor(df_arrest_time$Hour, level = 0:23, label = hour_format)\n",
    "\n",
    "df_arrest_time %>% head(10)"
   ]
  },
  {
   "cell_type": "code",
   "execution_count": 11,
   "metadata": {
    "collapsed": true
   },
   "outputs": [],
   "source": [
    "plot <- ggplot(df_arrest_time, aes(x = Hour, y = DayOfWeek, fill = count)) +\n",
    "    geom_tile() +\n",
    "    fte_theme() +\n",
    "    theme(axis.text.x = element_text(angle = 90, vjust = 0.6), legend.title = element_blank(), legend.position=\"top\", legend.direction=\"horizontal\", legend.key.width=unit(2, \"cm\"), legend.key.height=unit(0.25, \"cm\"), legend.margin=unit(-0.5,\"cm\"), panel.margin=element_blank()) +\n",
    "    labs(x = \"Hour of Arrest (Local Time)\", y = \"Day of Week of Arrest\", title = \"# of Police Arrests in San Francisco from 2003 – 2015, by Time of Arrest\") +\n",
    "    scale_fill_gradient(low = \"white\", high = \"#27AE60\", labels = comma)\n",
    "\n",
    "max_save(plot, \"sf-arrest-when-2\", \"SF OpenData\", w=6)"
   ]
  },
  {
   "cell_type": "markdown",
   "metadata": {},
   "source": [
    "![](sf-arrest-when-2.png)\n",
    "\n",
    "Hmm, why is there a surge on Wednesday afternoon, and at 4-5PM on all days? Let's look at subgroups to verify there isn't a latent factor."
   ]
  },
  {
   "cell_type": "markdown",
   "metadata": {},
   "source": [
    "## Factor by Crime Category\n",
    "\n",
    "Certain types of crime may be more time dependent. (i.e. more traffic violations when people leave work)"
   ]
  },
  {
   "cell_type": "code",
   "execution_count": 12,
   "metadata": {
    "collapsed": false,
    "scrolled": true
   },
   "outputs": [
    {
     "data": {
      "text/html": [
       "<table>\n",
       "<thead><tr><th></th><th scope=col>Category</th><th scope=col>count</th></tr></thead>\n",
       "<tbody>\n",
       "\t<tr><th scope=row>1</th><td>Other Offenses</td><td>183156</td></tr>\n",
       "\t<tr><th scope=row>2</th><td>Drug/Narcotic</td><td>98400</td></tr>\n",
       "\t<tr><th scope=row>3</th><td>Warrants</td><td>81426</td></tr>\n",
       "\t<tr><th scope=row>4</th><td>Assault</td><td>56934</td></tr>\n",
       "\t<tr><th scope=row>5</th><td>Larceny/Theft</td><td>31369</td></tr>\n",
       "\t<tr><th scope=row>6</th><td>Prostitution</td><td>14429</td></tr>\n",
       "\t<tr><th scope=row>7</th><td>Weapon Laws</td><td>11674</td></tr>\n",
       "\t<tr><th scope=row>8</th><td>Burglary</td><td>10449</td></tr>\n",
       "\t<tr><th scope=row>9</th><td>Trespass</td><td>10308</td></tr>\n",
       "\t<tr><th scope=row>10</th><td>Non-Criminal</td><td>10046</td></tr>\n",
       "\t<tr><th scope=row>11</th><td>Vandalism</td><td>9280</td></tr>\n",
       "\t<tr><th scope=row>12</th><td>Robbery</td><td>8168</td></tr>\n",
       "\t<tr><th scope=row>13</th><td>Stolen Property</td><td>8042</td></tr>\n",
       "\t<tr><th scope=row>14</th><td>Drunkenness</td><td>7202</td></tr>\n",
       "\t<tr><th scope=row>15</th><td>Secondary Codes</td><td>6960</td></tr>\n",
       "\t<tr><th scope=row>16</th><td>Disorderly Conduct</td><td>5769</td></tr>\n",
       "\t<tr><th scope=row>17</th><td>Fraud</td><td>4849</td></tr>\n",
       "\t<tr><th scope=row>18</th><td>Driving Under The Influence</td><td>4549</td></tr>\n",
       "\t<tr><th scope=row>19</th><td>Vehicle Theft</td><td>4376</td></tr>\n",
       "\t<tr><th scope=row>20</th><td>Forgery/Counterfeiting</td><td>4210</td></tr>\n",
       "</tbody>\n",
       "</table>\n"
      ],
      "text/latex": [
       "\\begin{tabular}{r|ll}\n",
       "  & Category & count\\\\\n",
       "\\hline\n",
       "\t1 & Other Offenses & 183156\\\\\n",
       "\t2 & Drug/Narcotic & 98400\\\\\n",
       "\t3 & Warrants & 81426\\\\\n",
       "\t4 & Assault & 56934\\\\\n",
       "\t5 & Larceny/Theft & 31369\\\\\n",
       "\t6 & Prostitution & 14429\\\\\n",
       "\t7 & Weapon Laws & 11674\\\\\n",
       "\t8 & Burglary & 10449\\\\\n",
       "\t9 & Trespass & 10308\\\\\n",
       "\t10 & Non-Criminal & 10046\\\\\n",
       "\t11 & Vandalism & 9280\\\\\n",
       "\t12 & Robbery & 8168\\\\\n",
       "\t13 & Stolen Property & 8042\\\\\n",
       "\t14 & Drunkenness & 7202\\\\\n",
       "\t15 & Secondary Codes & 6960\\\\\n",
       "\t16 & Disorderly Conduct & 5769\\\\\n",
       "\t17 & Fraud & 4849\\\\\n",
       "\t18 & Driving Under The Influence & 4549\\\\\n",
       "\t19 & Vehicle Theft & 4376\\\\\n",
       "\t20 & Forgery/Counterfeiting & 4210\\\\\n",
       "\\end{tabular}\n"
      ],
      "text/plain": [
       "Source: local data frame [20 x 2]\n",
       "\n",
       "                      Category  count\n",
       "                         (chr)  (int)\n",
       "1               Other Offenses 183156\n",
       "2                Drug/Narcotic  98400\n",
       "3                     Warrants  81426\n",
       "4                      Assault  56934\n",
       "5                Larceny/Theft  31369\n",
       "6                 Prostitution  14429\n",
       "7                  Weapon Laws  11674\n",
       "8                     Burglary  10449\n",
       "9                     Trespass  10308\n",
       "10                Non-Criminal  10046\n",
       "11                   Vandalism   9280\n",
       "12                     Robbery   8168\n",
       "13             Stolen Property   8042\n",
       "14                 Drunkenness   7202\n",
       "15             Secondary Codes   6960\n",
       "16          Disorderly Conduct   5769\n",
       "17                       Fraud   4849\n",
       "18 Driving Under The Influence   4549\n",
       "19               Vehicle Theft   4376\n",
       "20      Forgery/Counterfeiting   4210"
      ]
     },
     "execution_count": 12,
     "metadata": {},
     "output_type": "execute_result"
    }
   ],
   "source": [
    "df_top_crimes <- df_arrest %>%\n",
    "                    group_by(Category) %>% \n",
    "                    summarize(count = n()) %>%\n",
    "                    arrange(desc(count))\n",
    "\n",
    "df_top_crimes %>% head(20)"
   ]
  },
  {
   "cell_type": "code",
   "execution_count": 13,
   "metadata": {
    "collapsed": false
   },
   "outputs": [
    {
     "data": {
      "text/html": [
       "<table>\n",
       "<thead><tr><th></th><th scope=col>Category</th><th scope=col>DayOfWeek</th><th scope=col>Hour</th><th scope=col>count</th></tr></thead>\n",
       "<tbody>\n",
       "\t<tr><th scope=row>1</th><td>Assault</td><td>Friday</td><td>12 AM</td><td>408</td></tr>\n",
       "\t<tr><th scope=row>2</th><td>Assault</td><td>Friday</td><td>1 AM</td><td>341</td></tr>\n",
       "\t<tr><th scope=row>3</th><td>Assault</td><td>Friday</td><td>2 AM</td><td>326</td></tr>\n",
       "\t<tr><th scope=row>4</th><td>Assault</td><td>Friday</td><td>3 AM</td><td>149</td></tr>\n",
       "\t<tr><th scope=row>5</th><td>Assault</td><td>Friday</td><td>4 AM</td><td>105</td></tr>\n",
       "\t<tr><th scope=row>6</th><td>Assault</td><td>Friday</td><td>5 AM</td><td>88</td></tr>\n",
       "\t<tr><th scope=row>7</th><td>Assault</td><td>Friday</td><td>6 AM</td><td>113</td></tr>\n",
       "\t<tr><th scope=row>8</th><td>Assault</td><td>Friday</td><td>7 AM</td><td>193</td></tr>\n",
       "\t<tr><th scope=row>9</th><td>Assault</td><td>Friday</td><td>8 AM</td><td>238</td></tr>\n",
       "\t<tr><th scope=row>10</th><td>Assault</td><td>Friday</td><td>9 AM</td><td>254</td></tr>\n",
       "</tbody>\n",
       "</table>\n"
      ],
      "text/latex": [
       "\\begin{tabular}{r|llll}\n",
       "  & Category & DayOfWeek & Hour & count\\\\\n",
       "\\hline\n",
       "\t1 & Assault & Friday & 12 AM & 408\\\\\n",
       "\t2 & Assault & Friday & 1 AM & 341\\\\\n",
       "\t3 & Assault & Friday & 2 AM & 326\\\\\n",
       "\t4 & Assault & Friday & 3 AM & 149\\\\\n",
       "\t5 & Assault & Friday & 4 AM & 105\\\\\n",
       "\t6 & Assault & Friday & 5 AM & 88\\\\\n",
       "\t7 & Assault & Friday & 6 AM & 113\\\\\n",
       "\t8 & Assault & Friday & 7 AM & 193\\\\\n",
       "\t9 & Assault & Friday & 8 AM & 238\\\\\n",
       "\t10 & Assault & Friday & 9 AM & 254\\\\\n",
       "\\end{tabular}\n"
      ],
      "text/plain": [
       "Source: local data frame [10 x 4]\n",
       "Groups: Category, DayOfWeek [1]\n",
       "\n",
       "   Category DayOfWeek   Hour count\n",
       "      (chr)    (fctr) (fctr) (int)\n",
       "1   Assault    Friday  12 AM   408\n",
       "2   Assault    Friday   1 AM   341\n",
       "3   Assault    Friday   2 AM   326\n",
       "4   Assault    Friday   3 AM   149\n",
       "5   Assault    Friday   4 AM   105\n",
       "6   Assault    Friday   5 AM    88\n",
       "7   Assault    Friday   6 AM   113\n",
       "8   Assault    Friday   7 AM   193\n",
       "9   Assault    Friday   8 AM   238\n",
       "10  Assault    Friday   9 AM   254"
      ]
     },
     "execution_count": 13,
     "metadata": {},
     "output_type": "execute_result"
    }
   ],
   "source": [
    "df_arrest_time_crime <- df_arrest %>%\n",
    "                    filter(Category %in% df_top_crimes$Category[2:19]) %>%\n",
    "                    mutate(Hour = sapply(Time, get_hour)) %>%\n",
    "                    group_by(Category, DayOfWeek, Hour) %>% \n",
    "                    summarize(count = n())\n",
    "\n",
    "df_arrest_time_crime$DayOfWeek <- factor(df_arrest_time_crime$DayOfWeek, level = rev(dow_format))\n",
    "df_arrest_time_crime$Hour <- factor(df_arrest_time_crime$Hour, level = 0:23, label = hour_format)\n",
    "\n",
    "df_arrest_time_crime %>% head(10)"
   ]
  },
  {
   "cell_type": "code",
   "execution_count": 14,
   "metadata": {
    "collapsed": false
   },
   "outputs": [],
   "source": [
    "plot <- ggplot(df_arrest_time_crime, aes(x = Hour, y = DayOfWeek, fill = count)) +\n",
    "    geom_tile() +\n",
    "    fte_theme() +\n",
    "    theme(axis.text.x = element_text(angle = 90, vjust = 0.6, size = 4)) +\n",
    "    labs(x = \"Hour of Arrest (Local Time)\", y = \"Day of Week of Arrest\", title = \"# of Police Arrests in San Francisco from 2003 – 2015, by Category and Time of Arrest\") +\n",
    "    scale_fill_gradient(low = \"white\", high = \"#2980B9\") +\n",
    "    facet_wrap(~ Category, nrow = 6)\n",
    "\n",
    "max_save(plot, \"sf-arrest-when-3\", \"SF OpenData\", w = 6, h = 8, tall = T)"
   ]
  },
  {
   "cell_type": "markdown",
   "metadata": {},
   "source": [
    "![](sf-arrest-when-3.png)\n",
    "\n",
    "Good, but the gradients aren't helpful because they are not normalized. We need to normalize the range on each facet. (unfortunately, this makes the value of the gradient unhelpful)"
   ]
  },
  {
   "cell_type": "code",
   "execution_count": 15,
   "metadata": {
    "collapsed": false
   },
   "outputs": [
    {
     "data": {
      "text/html": [
       "<table>\n",
       "<thead><tr><th></th><th scope=col>Category</th><th scope=col>DayOfWeek</th><th scope=col>Hour</th><th scope=col>count</th><th scope=col>norm</th></tr></thead>\n",
       "<tbody>\n",
       "\t<tr><th scope=row>1</th><td>Assault</td><td>Friday</td><td>12 AM</td><td>408</td><td>0.007166192</td></tr>\n",
       "\t<tr><th scope=row>2</th><td>Assault</td><td>Friday</td><td>1 AM</td><td>341</td><td>0.005989391</td></tr>\n",
       "\t<tr><th scope=row>3</th><td>Assault</td><td>Friday</td><td>2 AM</td><td>326</td><td>0.005725928</td></tr>\n",
       "\t<tr><th scope=row>4</th><td>Assault</td><td>Friday</td><td>3 AM</td><td>149</td><td>0.002617065</td></tr>\n",
       "\t<tr><th scope=row>5</th><td>Assault</td><td>Friday</td><td>4 AM</td><td>105</td><td>0.001844241</td></tr>\n",
       "\t<tr><th scope=row>6</th><td>Assault</td><td>Friday</td><td>5 AM</td><td>88</td><td>0.001545649</td></tr>\n",
       "\t<tr><th scope=row>7</th><td>Assault</td><td>Friday</td><td>6 AM</td><td>113</td><td>0.001984754</td></tr>\n",
       "\t<tr><th scope=row>8</th><td>Assault</td><td>Friday</td><td>7 AM</td><td>193</td><td>0.00338989</td></tr>\n",
       "\t<tr><th scope=row>9</th><td>Assault</td><td>Friday</td><td>8 AM</td><td>238</td><td>0.004180279</td></tr>\n",
       "\t<tr><th scope=row>10</th><td>Assault</td><td>Friday</td><td>9 AM</td><td>254</td><td>0.004461306</td></tr>\n",
       "</tbody>\n",
       "</table>\n"
      ],
      "text/latex": [
       "\\begin{tabular}{r|lllll}\n",
       "  & Category & DayOfWeek & Hour & count & norm\\\\\n",
       "\\hline\n",
       "\t1 & Assault & Friday & 12 AM & 408 & 0.007166192\\\\\n",
       "\t2 & Assault & Friday & 1 AM & 341 & 0.005989391\\\\\n",
       "\t3 & Assault & Friday & 2 AM & 326 & 0.005725928\\\\\n",
       "\t4 & Assault & Friday & 3 AM & 149 & 0.002617065\\\\\n",
       "\t5 & Assault & Friday & 4 AM & 105 & 0.001844241\\\\\n",
       "\t6 & Assault & Friday & 5 AM & 88 & 0.001545649\\\\\n",
       "\t7 & Assault & Friday & 6 AM & 113 & 0.001984754\\\\\n",
       "\t8 & Assault & Friday & 7 AM & 193 & 0.00338989\\\\\n",
       "\t9 & Assault & Friday & 8 AM & 238 & 0.004180279\\\\\n",
       "\t10 & Assault & Friday & 9 AM & 254 & 0.004461306\\\\\n",
       "\\end{tabular}\n"
      ],
      "text/plain": [
       "Source: local data frame [10 x 5]\n",
       "Groups: Category [1]\n",
       "\n",
       "   Category DayOfWeek   Hour count        norm\n",
       "      (chr)    (fctr) (fctr) (int)       (dbl)\n",
       "1   Assault    Friday  12 AM   408 0.007166192\n",
       "2   Assault    Friday   1 AM   341 0.005989391\n",
       "3   Assault    Friday   2 AM   326 0.005725928\n",
       "4   Assault    Friday   3 AM   149 0.002617065\n",
       "5   Assault    Friday   4 AM   105 0.001844241\n",
       "6   Assault    Friday   5 AM    88 0.001545649\n",
       "7   Assault    Friday   6 AM   113 0.001984754\n",
       "8   Assault    Friday   7 AM   193 0.003389890\n",
       "9   Assault    Friday   8 AM   238 0.004180279\n",
       "10  Assault    Friday   9 AM   254 0.004461306"
      ]
     },
     "execution_count": 15,
     "metadata": {},
     "output_type": "execute_result"
    }
   ],
   "source": [
    "df_arrest_time_crime <- df_arrest_time_crime %>%\n",
    "                            group_by(Category) %>%\n",
    "                            mutate(norm = count/sum(count))\n",
    "\n",
    "df_arrest_time_crime %>% head(10)"
   ]
  },
  {
   "cell_type": "code",
   "execution_count": 16,
   "metadata": {
    "collapsed": true
   },
   "outputs": [],
   "source": [
    "plot <- ggplot(df_arrest_time_crime, aes(x = Hour, y = DayOfWeek, fill = norm)) +\n",
    "    geom_tile() +\n",
    "    fte_theme() +\n",
    "    theme(axis.text.x = element_text(angle = 90, vjust = 0.6, size = 4)) +\n",
    "    labs(x = \"Hour of Arrest (Local Time)\", y = \"Day of Week of Arrest\", title = \"Police Arrests in San Francisco from 2003 – 2015 by Time of Arrest, Normalized by Type of Crime\") +\n",
    "    scale_fill_gradient(low = \"white\", high = \"#2980B9\") +\n",
    "    facet_wrap(~ Category, nrow = 6)\n",
    "\n",
    "max_save(plot, \"sf-arrest-when-4\", \"SF OpenData\", w = 6, h = 8, tall = T)"
   ]
  },
  {
   "cell_type": "markdown",
   "metadata": {},
   "source": [
    "![](sf-arrest-when-4.png)\n",
    "\n",
    "Much more helpful."
   ]
  },
  {
   "cell_type": "markdown",
   "metadata": {},
   "source": [
    "## Factor by Police District\n",
    "\n",
    "Same as above, but with a different facet."
   ]
  },
  {
   "cell_type": "code",
   "execution_count": 17,
   "metadata": {
    "collapsed": false
   },
   "outputs": [
    {
     "data": {
      "text/html": [
       "<table>\n",
       "<thead><tr><th></th><th scope=col>PdDistrict</th><th scope=col>DayOfWeek</th><th scope=col>Hour</th><th scope=col>count</th><th scope=col>norm</th></tr></thead>\n",
       "<tbody>\n",
       "\t<tr><th scope=row>1</th><td>Bayview</td><td>Friday</td><td>12 AM</td><td>347</td><td>0.005714474</td></tr>\n",
       "\t<tr><th scope=row>2</th><td>Bayview</td><td>Friday</td><td>1 AM</td><td>195</td><td>0.003211304</td></tr>\n",
       "\t<tr><th scope=row>3</th><td>Bayview</td><td>Friday</td><td>2 AM</td><td>151</td><td>0.002486702</td></tr>\n",
       "\t<tr><th scope=row>4</th><td>Bayview</td><td>Friday</td><td>3 AM</td><td>90</td><td>0.00148214</td></tr>\n",
       "\t<tr><th scope=row>5</th><td>Bayview</td><td>Friday</td><td>4 AM</td><td>101</td><td>0.001663291</td></tr>\n",
       "\t<tr><th scope=row>6</th><td>Bayview</td><td>Friday</td><td>5 AM</td><td>81</td><td>0.001333926</td></tr>\n",
       "\t<tr><th scope=row>7</th><td>Bayview</td><td>Friday</td><td>6 AM</td><td>100</td><td>0.001646822</td></tr>\n",
       "\t<tr><th scope=row>8</th><td>Bayview</td><td>Friday</td><td>7 AM</td><td>226</td><td>0.003721819</td></tr>\n",
       "\t<tr><th scope=row>9</th><td>Bayview</td><td>Friday</td><td>8 AM</td><td>313</td><td>0.005154554</td></tr>\n",
       "\t<tr><th scope=row>10</th><td>Bayview</td><td>Friday</td><td>9 AM</td><td>397</td><td>0.006537885</td></tr>\n",
       "</tbody>\n",
       "</table>\n"
      ],
      "text/latex": [
       "\\begin{tabular}{r|lllll}\n",
       "  & PdDistrict & DayOfWeek & Hour & count & norm\\\\\n",
       "\\hline\n",
       "\t1 & Bayview & Friday & 12 AM & 347 & 0.005714474\\\\\n",
       "\t2 & Bayview & Friday & 1 AM & 195 & 0.003211304\\\\\n",
       "\t3 & Bayview & Friday & 2 AM & 151 & 0.002486702\\\\\n",
       "\t4 & Bayview & Friday & 3 AM & 90 & 0.00148214\\\\\n",
       "\t5 & Bayview & Friday & 4 AM & 101 & 0.001663291\\\\\n",
       "\t6 & Bayview & Friday & 5 AM & 81 & 0.001333926\\\\\n",
       "\t7 & Bayview & Friday & 6 AM & 100 & 0.001646822\\\\\n",
       "\t8 & Bayview & Friday & 7 AM & 226 & 0.003721819\\\\\n",
       "\t9 & Bayview & Friday & 8 AM & 313 & 0.005154554\\\\\n",
       "\t10 & Bayview & Friday & 9 AM & 397 & 0.006537885\\\\\n",
       "\\end{tabular}\n"
      ],
      "text/plain": [
       "Source: local data frame [10 x 5]\n",
       "Groups: PdDistrict [1]\n",
       "\n",
       "   PdDistrict DayOfWeek   Hour count        norm\n",
       "        (chr)    (fctr) (fctr) (int)       (dbl)\n",
       "1     Bayview    Friday  12 AM   347 0.005714474\n",
       "2     Bayview    Friday   1 AM   195 0.003211304\n",
       "3     Bayview    Friday   2 AM   151 0.002486702\n",
       "4     Bayview    Friday   3 AM    90 0.001482140\n",
       "5     Bayview    Friday   4 AM   101 0.001663291\n",
       "6     Bayview    Friday   5 AM    81 0.001333926\n",
       "7     Bayview    Friday   6 AM   100 0.001646822\n",
       "8     Bayview    Friday   7 AM   226 0.003721819\n",
       "9     Bayview    Friday   8 AM   313 0.005154554\n",
       "10    Bayview    Friday   9 AM   397 0.006537885"
      ]
     },
     "execution_count": 17,
     "metadata": {},
     "output_type": "execute_result"
    }
   ],
   "source": [
    "df_arrest_time_district <- df_arrest %>%\n",
    "                    mutate(Hour = sapply(Time, get_hour)) %>%\n",
    "                    group_by(PdDistrict, DayOfWeek, Hour) %>% \n",
    "                    summarize(count = n()) %>%\n",
    "                    group_by(PdDistrict) %>%\n",
    "                    mutate(norm = count/sum(count))\n",
    "\n",
    "df_arrest_time_district$DayOfWeek <- factor(df_arrest_time_district$DayOfWeek, level = rev(dow_format))\n",
    "df_arrest_time_district$Hour <- factor(df_arrest_time_district$Hour, level = 0:23, label = hour_format)\n",
    "\n",
    "df_arrest_time_district %>% head(10)"
   ]
  },
  {
   "cell_type": "code",
   "execution_count": 18,
   "metadata": {
    "collapsed": true
   },
   "outputs": [],
   "source": [
    "plot <- ggplot(df_arrest_time_district, aes(x = Hour, y = DayOfWeek, fill = norm)) +\n",
    "    geom_tile() +\n",
    "    fte_theme() +\n",
    "    theme(axis.text.x = element_text(angle = 90, vjust = 0.6, size = 4)) +\n",
    "    labs(x = \"Hour of Arrest (Local Time)\", y = \"Day of Week of Arrest\", title = \"Police Arrests in San Francisco from 2003 – 2015 by Time of Arrest, Normalized by Station\") +\n",
    "    scale_fill_gradient(low = \"white\", high = \"#8E44AD\") +\n",
    "    facet_wrap(~ PdDistrict, nrow = 5)\n",
    "\n",
    "max_save(plot, \"sf-arrest-when-5\", \"SF OpenData\", w = 6, h = 8, tall = T)"
   ]
  },
  {
   "cell_type": "markdown",
   "metadata": {},
   "source": [
    "![](sf-arrest-when-5.png)\n",
    "\n",
    "Not helpful either. Meh."
   ]
  },
  {
   "cell_type": "markdown",
   "metadata": {},
   "source": [
    "# Factor by Month\n",
    "\n",
    "If crime is tied to activities, the period at which activies end may impact."
   ]
  },
  {
   "cell_type": "code",
   "execution_count": 19,
   "metadata": {
    "collapsed": false
   },
   "outputs": [
    {
     "data": {
      "text/html": [
       "<table>\n",
       "<thead><tr><th></th><th scope=col>Month</th><th scope=col>DayOfWeek</th><th scope=col>Hour</th><th scope=col>count</th><th scope=col>norm</th></tr></thead>\n",
       "<tbody>\n",
       "\t<tr><th scope=row>1</th><td>April</td><td>Friday</td><td>12 AM</td><td>292</td><td>0.005988884</td></tr>\n",
       "\t<tr><th scope=row>2</th><td>April</td><td>Friday</td><td>1 AM</td><td>187</td><td>0.003835347</td></tr>\n",
       "\t<tr><th scope=row>3</th><td>April</td><td>Friday</td><td>2 AM</td><td>209</td><td>0.004286564</td></tr>\n",
       "\t<tr><th scope=row>4</th><td>April</td><td>Friday</td><td>3 AM</td><td>98</td><td>0.002009968</td></tr>\n",
       "\t<tr><th scope=row>5</th><td>April</td><td>Friday</td><td>4 AM</td><td>103</td><td>0.002112517</td></tr>\n",
       "\t<tr><th scope=row>6</th><td>April</td><td>Friday</td><td>5 AM</td><td>53</td><td>0.001087023</td></tr>\n",
       "\t<tr><th scope=row>7</th><td>April</td><td>Friday</td><td>6 AM</td><td>107</td><td>0.002194557</td></tr>\n",
       "\t<tr><th scope=row>8</th><td>April</td><td>Friday</td><td>7 AM</td><td>190</td><td>0.003896876</td></tr>\n",
       "\t<tr><th scope=row>9</th><td>April</td><td>Friday</td><td>8 AM</td><td>216</td><td>0.004430133</td></tr>\n",
       "\t<tr><th scope=row>10</th><td>April</td><td>Friday</td><td>9 AM</td><td>284</td><td>0.005824805</td></tr>\n",
       "</tbody>\n",
       "</table>\n"
      ],
      "text/latex": [
       "\\begin{tabular}{r|lllll}\n",
       "  & Month & DayOfWeek & Hour & count & norm\\\\\n",
       "\\hline\n",
       "\t1 & April & Friday & 12 AM & 292 & 0.005988884\\\\\n",
       "\t2 & April & Friday & 1 AM & 187 & 0.003835347\\\\\n",
       "\t3 & April & Friday & 2 AM & 209 & 0.004286564\\\\\n",
       "\t4 & April & Friday & 3 AM & 98 & 0.002009968\\\\\n",
       "\t5 & April & Friday & 4 AM & 103 & 0.002112517\\\\\n",
       "\t6 & April & Friday & 5 AM & 53 & 0.001087023\\\\\n",
       "\t7 & April & Friday & 6 AM & 107 & 0.002194557\\\\\n",
       "\t8 & April & Friday & 7 AM & 190 & 0.003896876\\\\\n",
       "\t9 & April & Friday & 8 AM & 216 & 0.004430133\\\\\n",
       "\t10 & April & Friday & 9 AM & 284 & 0.005824805\\\\\n",
       "\\end{tabular}\n"
      ],
      "text/plain": [
       "Source: local data frame [10 x 5]\n",
       "Groups: Month [1]\n",
       "\n",
       "   Month DayOfWeek   Hour count        norm\n",
       "   (chr)    (fctr) (fctr) (int)       (dbl)\n",
       "1  April    Friday  12 AM   292 0.005988884\n",
       "2  April    Friday   1 AM   187 0.003835347\n",
       "3  April    Friday   2 AM   209 0.004286564\n",
       "4  April    Friday   3 AM    98 0.002009968\n",
       "5  April    Friday   4 AM   103 0.002112517\n",
       "6  April    Friday   5 AM    53 0.001087023\n",
       "7  April    Friday   6 AM   107 0.002194557\n",
       "8  April    Friday   7 AM   190 0.003896876\n",
       "9  April    Friday   8 AM   216 0.004430133\n",
       "10 April    Friday   9 AM   284 0.005824805"
      ]
     },
     "execution_count": 19,
     "metadata": {},
     "output_type": "execute_result"
    }
   ],
   "source": [
    "df_arrest_time_month <- df_arrest %>%\n",
    "                    mutate(Month = format(as.Date(Date, \"%m/%d/%Y\"), \"%B\"), Hour = sapply(Time, get_hour)) %>%\n",
    "                    group_by(Month, DayOfWeek, Hour) %>% \n",
    "                    summarize(count = n()) %>%\n",
    "                    group_by(Month) %>%\n",
    "                    mutate(norm = count/sum(count))\n",
    "\n",
    "df_arrest_time_month$DayOfWeek <- factor(df_arrest_time_month$DayOfWeek, level = rev(dow_format))\n",
    "df_arrest_time_month$Hour <- factor(df_arrest_time_month$Hour, level = 0:23, label = hour_format)\n",
    "\n",
    "df_arrest_time_month %>% head(10)"
   ]
  },
  {
   "cell_type": "code",
   "execution_count": 20,
   "metadata": {
    "collapsed": true
   },
   "outputs": [],
   "source": [
    "# Set order of month facets by chronological order instead of alphabetical\n",
    "df_arrest_time_month$Month <- factor(df_arrest_time_month$Month,\n",
    "                                     level = c(\"January\",\"February\",\"March\",\"April\",\"May\",\"June\",\"July\",\"August\",\"September\",\"October\",\"November\",\"December\"))\n",
    "\n",
    "plot <- ggplot(df_arrest_time_month, aes(x = Hour, y = DayOfWeek, fill = norm)) +\n",
    "    geom_tile() +\n",
    "    fte_theme() +\n",
    "    theme(axis.text.x = element_text(angle = 90, vjust = 0.6, size = 4)) +\n",
    "    labs(x = \"Hour of Arrest (Local Time)\", y = \"Day of Week of Arrest\", title = \"Police Arrests in San Francisco from 2003 – 2015 by Time of Arrest, Normalized by Month\") +\n",
    "    scale_fill_gradient(low = \"white\", high = \"#E74C3C\") +\n",
    "    facet_wrap(~ Month, nrow = 4)\n",
    "\n",
    "max_save(plot, \"sf-arrest-when-6\", \"SF OpenData\", w = 6, h = 6, tall = T)"
   ]
  },
  {
   "cell_type": "markdown",
   "metadata": {},
   "source": [
    "![](sf-arrest-when-6.png)\n",
    "\n",
    "That is not helpful either!"
   ]
  },
  {
   "cell_type": "markdown",
   "metadata": {},
   "source": [
    "## Factor By Year\n",
    "\n",
    "Perhaps things changed overtime?"
   ]
  },
  {
   "cell_type": "code",
   "execution_count": 21,
   "metadata": {
    "collapsed": false
   },
   "outputs": [
    {
     "data": {
      "text/html": [
       "<table>\n",
       "<thead><tr><th></th><th scope=col>Year</th><th scope=col>DayOfWeek</th><th scope=col>Hour</th><th scope=col>count</th><th scope=col>norm</th></tr></thead>\n",
       "<tbody>\n",
       "\t<tr><th scope=row>1</th><td>2003</td><td>Friday</td><td>12 AM</td><td>295</td><td>0.005575084</td></tr>\n",
       "\t<tr><th scope=row>2</th><td>2003</td><td>Friday</td><td>1 AM</td><td>195</td><td>0.003685225</td></tr>\n",
       "\t<tr><th scope=row>3</th><td>2003</td><td>Friday</td><td>2 AM</td><td>181</td><td>0.003420645</td></tr>\n",
       "\t<tr><th scope=row>4</th><td>2003</td><td>Friday</td><td>3 AM</td><td>155</td><td>0.002929281</td></tr>\n",
       "\t<tr><th scope=row>5</th><td>2003</td><td>Friday</td><td>4 AM</td><td>61</td><td>0.001152814</td></tr>\n",
       "\t<tr><th scope=row>6</th><td>2003</td><td>Friday</td><td>5 AM</td><td>95</td><td>0.001795366</td></tr>\n",
       "\t<tr><th scope=row>7</th><td>2003</td><td>Friday</td><td>6 AM</td><td>152</td><td>0.002872586</td></tr>\n",
       "\t<tr><th scope=row>8</th><td>2003</td><td>Friday</td><td>7 AM</td><td>240</td><td>0.004535662</td></tr>\n",
       "\t<tr><th scope=row>9</th><td>2003</td><td>Friday</td><td>8 AM</td><td>296</td><td>0.005593983</td></tr>\n",
       "\t<tr><th scope=row>10</th><td>2003</td><td>Friday</td><td>9 AM</td><td>395</td><td>0.007464943</td></tr>\n",
       "</tbody>\n",
       "</table>\n"
      ],
      "text/latex": [
       "\\begin{tabular}{r|lllll}\n",
       "  & Year & DayOfWeek & Hour & count & norm\\\\\n",
       "\\hline\n",
       "\t1 & 2003 & Friday & 12 AM & 295 & 0.005575084\\\\\n",
       "\t2 & 2003 & Friday & 1 AM & 195 & 0.003685225\\\\\n",
       "\t3 & 2003 & Friday & 2 AM & 181 & 0.003420645\\\\\n",
       "\t4 & 2003 & Friday & 3 AM & 155 & 0.002929281\\\\\n",
       "\t5 & 2003 & Friday & 4 AM & 61 & 0.001152814\\\\\n",
       "\t6 & 2003 & Friday & 5 AM & 95 & 0.001795366\\\\\n",
       "\t7 & 2003 & Friday & 6 AM & 152 & 0.002872586\\\\\n",
       "\t8 & 2003 & Friday & 7 AM & 240 & 0.004535662\\\\\n",
       "\t9 & 2003 & Friday & 8 AM & 296 & 0.005593983\\\\\n",
       "\t10 & 2003 & Friday & 9 AM & 395 & 0.007464943\\\\\n",
       "\\end{tabular}\n"
      ],
      "text/plain": [
       "Source: local data frame [10 x 5]\n",
       "Groups: Year [1]\n",
       "\n",
       "    Year DayOfWeek   Hour count        norm\n",
       "   (chr)    (fctr) (fctr) (int)       (dbl)\n",
       "1   2003    Friday  12 AM   295 0.005575084\n",
       "2   2003    Friday   1 AM   195 0.003685225\n",
       "3   2003    Friday   2 AM   181 0.003420645\n",
       "4   2003    Friday   3 AM   155 0.002929281\n",
       "5   2003    Friday   4 AM    61 0.001152814\n",
       "6   2003    Friday   5 AM    95 0.001795366\n",
       "7   2003    Friday   6 AM   152 0.002872586\n",
       "8   2003    Friday   7 AM   240 0.004535662\n",
       "9   2003    Friday   8 AM   296 0.005593983\n",
       "10  2003    Friday   9 AM   395 0.007464943"
      ]
     },
     "execution_count": 21,
     "metadata": {},
     "output_type": "execute_result"
    }
   ],
   "source": [
    "df_arrest_time_year <- df_arrest %>%\n",
    "                    mutate(Year = format(as.Date(Date, \"%m/%d/%Y\"), \"%Y\"), Hour = sapply(Time, get_hour)) %>%\n",
    "                    group_by(Year, DayOfWeek, Hour) %>% \n",
    "                    summarize(count = n()) %>%\n",
    "                    group_by(Year) %>%\n",
    "                    mutate(norm = count/sum(count))\n",
    "\n",
    "df_arrest_time_year$DayOfWeek <- factor(df_arrest_time_year$DayOfWeek, level = rev(dow_format))\n",
    "df_arrest_time_year$Hour <- factor(df_arrest_time_year$Hour, level = 0:23, label = hour_format)\n",
    "\n",
    "df_arrest_time_year %>% head(10)"
   ]
  },
  {
   "cell_type": "code",
   "execution_count": 22,
   "metadata": {
    "collapsed": false
   },
   "outputs": [],
   "source": [
    "plot <- ggplot(df_arrest_time_year, aes(x = Hour, y = DayOfWeek, fill = norm)) +\n",
    "    geom_tile() +\n",
    "    fte_theme() +\n",
    "    theme(axis.text.x = element_text(angle = 90, vjust = 0.6, size = 4)) +\n",
    "    labs(x = \"Hour of Arrest (Local Time)\", y = \"Day of Week of Arrest\", title = \"Police Arrests in San Francisco from 2003 – 2015 by Time of Arrest, Normalized by Year\") +\n",
    "    scale_fill_gradient(low = \"white\", high = \"#E67E22\") +\n",
    "    facet_wrap(~ Year, nrow = 6)\n",
    "\n",
    "max_save(plot, \"sf-arrest-when-7\", \"SF OpenData\", w = 6, h = 6, tall = T)"
   ]
  },
  {
   "cell_type": "markdown",
   "metadata": {},
   "source": [
    "![](sf-arrest-when-7.png)\n",
    "\n",
    "Ack, not really."
   ]
  },
  {
   "cell_type": "markdown",
   "metadata": {},
   "source": [
    "# Plot with ggmap\n",
    "\n",
    "Let's try working with maps. *(Ed. Note: Due to their size, the maps will not be embedded directly into the notebook, but they will be available in the repository.}*\n",
    "\n",
    "We can use the CSV output of the [Bounding Box Tool](http://boundingbox.klokantech.com) to easily choose explicit bounds."
   ]
  },
  {
   "cell_type": "code",
   "execution_count": 23,
   "metadata": {
    "collapsed": false,
    "scrolled": false
   },
   "outputs": [
    {
     "name": "stderr",
     "output_type": "stream",
     "text": [
      "Map from URL : http://tile.stamen.com/toner-lite/13/1308/3165.png\n",
      "Map from URL : http://tile.stamen.com/toner-lite/13/1309/3165.png\n",
      "Map from URL : http://tile.stamen.com/toner-lite/13/1310/3165.png\n",
      "Map from URL : http://tile.stamen.com/toner-lite/13/1311/3165.png\n",
      "Map from URL : http://tile.stamen.com/toner-lite/13/1308/3166.png\n",
      "Map from URL : http://tile.stamen.com/toner-lite/13/1309/3166.png\n",
      "Map from URL : http://tile.stamen.com/toner-lite/13/1310/3166.png\n",
      "Map from URL : http://tile.stamen.com/toner-lite/13/1311/3166.png\n",
      "Map from URL : http://tile.stamen.com/toner-lite/13/1308/3167.png\n",
      "Map from URL : http://tile.stamen.com/toner-lite/13/1309/3167.png\n",
      "Map from URL : http://tile.stamen.com/toner-lite/13/1310/3167.png\n",
      "Map from URL : http://tile.stamen.com/toner-lite/13/1311/3167.png\n",
      "Map from URL : http://tile.stamen.com/toner-lite/13/1308/3168.png\n",
      "Map from URL : http://tile.stamen.com/toner-lite/13/1309/3168.png\n",
      "Map from URL : http://tile.stamen.com/toner-lite/13/1310/3168.png\n",
      "Map from URL : http://tile.stamen.com/toner-lite/13/1311/3168.png\n"
     ]
    }
   ],
   "source": [
    "bbox = c(-122.516441,37.702072,-122.37276,37.811818)\n",
    "\n",
    "# credit to /u/all_genes_considered for map setting suggestion\n",
    "map <- get_map(location = bbox, source = \"stamen\", maptype = \"toner-lite\")"
   ]
  },
  {
   "cell_type": "markdown",
   "metadata": {},
   "source": [
    "Test map download."
   ]
  },
  {
   "cell_type": "code",
   "execution_count": 64,
   "metadata": {
    "collapsed": false
   },
   "outputs": [
    {
     "data": {
      "text/html": [
       "<strong>pdf:</strong> 2"
      ],
      "text/latex": [
       "\\textbf{pdf:} 2"
      ],
      "text/markdown": [
       "**pdf:** 2"
      ],
      "text/plain": [
       "pdf \n",
       "  2 "
      ]
     },
     "execution_count": 64,
     "metadata": {},
     "output_type": "execute_result"
    }
   ],
   "source": [
    "png(\"sf-arrest-where-0.png\", w=900, h=900, res=300)\n",
    "ggmap(map)\n",
    "dev.off()"
   ]
  },
  {
   "cell_type": "markdown",
   "metadata": {},
   "source": [
    "The \"white space\" issue noted in the bootstrap article is still present due to the fixed ratio of the ggmap. You will need to tweak chart dimensions accordingly."
   ]
  },
  {
   "cell_type": "code",
   "execution_count": 24,
   "metadata": {
    "collapsed": false
   },
   "outputs": [],
   "source": [
    "plot <- ggmap(map) +\n",
    "            geom_point(data = df_arrest, aes(x=X, y=Y), color = \"#27AE60\", size = 0.5, alpha = 0.01) +\n",
    "            fte_theme() +\n",
    "            theme(axis.text.x = element_blank(), axis.text.y = element_blank(), axis.title.x = element_blank(), axis.title.y = element_blank()) +\n",
    "            theme(plot.margin = unit(c(0.3, 0.3, -0.25, 0), \"cm\")) +\n",
    "            labs(title = \"Locations of Police Arrests Made in San Francisco from 2003 – 2015\")\n",
    "\n",
    "max_save(plot, \"sf-arrest-where-1\", \"SF OpenData\", w = 3.8, h = 4)"
   ]
  },
  {
   "cell_type": "markdown",
   "metadata": {},
   "source": [
    "We can facet the map by the Type of Crime using `facet_wrap`. (contrary to notes in the documentation, setting the ggplot as the `base_layer` is apparently not necessary, and imposes a performance penalty)\n"
   ]
  },
  {
   "cell_type": "code",
   "execution_count": 25,
   "metadata": {
    "collapsed": false
   },
   "outputs": [],
   "source": [
    "plot <- ggmap(map) +\n",
    "            geom_point(data = df_arrest %>% filter(Category %in% df_top_crimes$Category[2:19]), aes(x=X, y=Y, color=Category), size=0.75, alpha=0.05) +\n",
    "            fte_theme() +\n",
    "            theme(axis.text.x = element_blank(), axis.text.y = element_blank(), axis.title.x = element_blank(), axis.title.y = element_blank()) +\n",
    "            labs(title = \"Locations of Police Arrests Made in San Francisco from 2003 – 2015, by Type of Crime\") +\n",
    "            facet_wrap(~ Category, nrow = 3)\n",
    "\n",
    "max_save(plot, \"sf-arrest-where-2\", \"SF OpenData\", w = 14.2, h = 8, tall = T)"
   ]
  },
  {
   "cell_type": "markdown",
   "metadata": {},
   "source": [
    "Now let's normalize the above plot for each facter, with Hex aggregation."
   ]
  },
  {
   "cell_type": "code",
   "execution_count": 38,
   "metadata": {
    "collapsed": false
   },
   "outputs": [],
   "source": [
    "# Do not show hex if sum is below threshold\n",
    "sum_thresh <- function(x, threshold = 10^-3) {\n",
    "    if (sum(x) < threshold) {return (NA)}\n",
    "    else {return (sum(x))}\n",
    "}\n",
    "\n",
    "plot <- ggmap(map) +\n",
    "            stat_summary_hex(data = df_arrest %>% filter(Category %in% df_top_crimes$Category[2:19]) %>% group_by(Category) %>% mutate(w=1/n()), aes(x=X, y=Y, z=w), fun=sum_thresh, alpha = 0.8, color=\"#CCCCCC\") +\n",
    "            fte_theme() +\n",
    "            theme(axis.text.x = element_blank(), axis.text.y = element_blank(), axis.title.x = element_blank(), axis.title.y = element_blank()) +\n",
    "            scale_fill_gradient(low = \"#DDDDDD\", high = \"#2980B9\") +\n",
    "            labs(title = \"Locations of Police Arrests Made in San Francisco from 2003 – 2015, Normalized by Type of Crime\") +\n",
    "            facet_wrap(~ Category, nrow = 3)\n",
    "\n",
    "max_save(plot, \"sf-arrest-where-3\", \"SF OpenData\", w = 14.2, h = 8, tall = T)"
   ]
  },
  {
   "cell_type": "markdown",
   "metadata": {},
   "source": [
    "Facet by police districts."
   ]
  },
  {
   "cell_type": "code",
   "execution_count": 56,
   "metadata": {
    "collapsed": true
   },
   "outputs": [],
   "source": [
    "plot <- ggmap(map) +\n",
    "            stat_summary_hex(data = df_arrest %>% group_by(PdDistrict) %>% mutate(w=1/n()), aes(x=X, y=Y, z=w), fun=sum_thresh, alpha = 0.8, color=\"#CCCCCC\") +\n",
    "            fte_theme() +\n",
    "            theme(axis.text.x = element_blank(), axis.text.y = element_blank(), axis.title.x = element_blank(), axis.title.y = element_blank()) +\n",
    "            scale_fill_gradient(low = \"#DDDDDD\", high = \"#8E44AD\") +\n",
    "            labs(title = \"Locations of Police Arrests Made in San Francisco from 2003 – 2015, Normalized by Police District\") +\n",
    "            facet_wrap(~ PdDistrict, nrow = 2)\n",
    "\n",
    "max_save(plot, \"sf-arrest-where-4\", \"SF OpenData\", w = 13, h = 6, tall = T)"
   ]
  },
  {
   "cell_type": "markdown",
   "metadata": {},
   "source": [
    "Facet by months. (The raw month must be appended to the original `df_arrest` data frame now)"
   ]
  },
  {
   "cell_type": "code",
   "execution_count": 55,
   "metadata": {
    "collapsed": false
   },
   "outputs": [],
   "source": [
    "df_arrest <- df_arrest %>% mutate(Month=format(as.Date(Date, \"%m/%d/%Y\"), \"%B\"))\n",
    "df_arrest$Month <- factor(df_arrest$Month,\n",
    "                                     level = c(\"January\",\"February\",\"March\",\"April\",\"May\",\"June\",\"July\",\"August\",\"September\",\"October\",\"November\",\"December\"))\n",
    "\n",
    "plot <- ggmap(map) +\n",
    "            stat_summary_hex(data = df_arrest %>% group_by(Month) %>% mutate(w=1/n()), aes(x=X, y=Y, z=w), fun=sum_thresh, alpha = 0.8, color=\"#CCCCCC\") +\n",
    "            fte_theme() +\n",
    "            theme(axis.text.x = element_blank(), axis.text.y = element_blank(), axis.title.x = element_blank(), axis.title.y = element_blank()) +\n",
    "            scale_fill_gradient(low = \"#DDDDDD\", high = \"#E74C3C\") +\n",
    "            labs(title = \"Locations of Police Arrests Made in San Francisco from 2003 – 2015, Normalized by Month\") +\n",
    "            facet_wrap(~ Month, nrow=2)\n",
    "\n",
    "max_save(plot, \"sf-arrest-where-5\", \"SF OpenData\", w=13, h=5, tall=T)"
   ]
  },
  {
   "cell_type": "markdown",
   "metadata": {},
   "source": [
    "Facet by year."
   ]
  },
  {
   "cell_type": "code",
   "execution_count": 54,
   "metadata": {
    "collapsed": true
   },
   "outputs": [],
   "source": [
    "df_arrest <- df_arrest %>% mutate(Year=format(as.Date(Date, \"%m/%d/%Y\"), \"%Y\"))\n",
    "\n",
    "plot <- ggmap(map) +\n",
    "            stat_summary_hex(data=df_arrest %>% group_by(Year) %>% mutate(w=1/n()), aes(x=X, y=Y, z=w), fun=sum_thresh, alpha = 0.8, color=\"#CCCCCC\") +\n",
    "            fte_theme() +\n",
    "            theme(axis.text.x = element_blank(), axis.text.y = element_blank(), axis.title.x = element_blank(), axis.title.y = element_blank()) +\n",
    "            scale_fill_gradient(low = \"#DDDDDD\", high = \"#E67E22\") +\n",
    "            labs(title = \"Locations of Police Arrests Made in San Francisco from 2003 – 2015, Normalized by Year\") +\n",
    "            facet_wrap(~ Year, nrow=2)\n",
    "\n",
    "max_save(plot, \"sf-arrest-where-6\", \"SF OpenData\", w=10.5, h=4)"
   ]
  },
  {
   "cell_type": "markdown",
   "metadata": {},
   "source": [
    "Facet by hour of day."
   ]
  },
  {
   "cell_type": "code",
   "execution_count": 53,
   "metadata": {
    "collapsed": true
   },
   "outputs": [],
   "source": [
    "df_arrest <- df_arrest %>% mutate(Hour = sapply(Time, get_hour))\n",
    "df_arrest$Hour <- factor(df_arrest$Hour, level = 0:23, label = hour_format)\n",
    "\n",
    "plot <- ggmap(map) +\n",
    "            stat_summary_hex(data=df_arrest %>% group_by(Hour) %>% mutate(w=1/n()), aes(x=X, y=Y, z=w), fun=sum_thresh, alpha = 0.8, color=\"#CCCCCC\") +\n",
    "            fte_theme() +\n",
    "            theme(axis.text.x = element_blank(), axis.text.y = element_blank(), axis.title.x = element_blank(), axis.title.y = element_blank()) +\n",
    "            scale_fill_gradient(low = \"#DDDDDD\", high = \"#1ABC9C\") +\n",
    "            labs(title = \"Locations of Police Arrests Made in San Francisco from 2003 – 2015, Normalized by Hour\") +\n",
    "            facet_wrap(~ Hour, nrow=4)\n",
    "\n",
    "max_save(plot, \"sf-arrest-where-7\", \"SF OpenData\", w=10.5, h=8, tall=T)"
   ]
  },
  {
   "cell_type": "markdown",
   "metadata": {},
   "source": [
    "Facet by Day of Week"
   ]
  },
  {
   "cell_type": "code",
   "execution_count": 40,
   "metadata": {
    "collapsed": true
   },
   "outputs": [],
   "source": [
    "df_arrest$DayOfWeek <- factor(df_arrest$DayOfWeek, level = dow_format)\n",
    "\n",
    "plot <- ggmap(map) +\n",
    "            stat_summary_hex(data=df_arrest %>% group_by(DayOfWeek) %>% mutate(w=1/n()), aes(x=X, y=Y, z=w), fun=sum_thresh, alpha = 0.8, color=\"#CCCCCC\") +\n",
    "            fte_theme() +\n",
    "            theme(axis.text.x = element_blank(), axis.text.y = element_blank(), axis.title.x = element_blank(), axis.title.y = element_blank()) +\n",
    "            scale_fill_gradient(low = \"#DDDDDD\", high = \"#16A085\") +\n",
    "            labs(title = \"Locations of Police Arrests Made in San Francisco from 2003 – 2015, Normalized by Day of Week\") +\n",
    "            facet_wrap(~ DayOfWeek, nrow=2)\n",
    "\n",
    "max_save(plot, \"sf-arrest-where-8\", \"SF OpenData\", w=10.5, h=6, tall=T)"
   ]
  },
  {
   "cell_type": "markdown",
   "metadata": {},
   "source": [
    "## Bonus: Does Social Security payments lead to arrests?\n",
    "\n",
    "Followup analysis to [/u/NowProveIt's comment on Reddit](https://www.reddit.com/r/sanfrancisco/comments/3vfgg2/analyzing_san_francisco_crime_data_to_determine/cxn29wd) suggesting that SSI payments lead to higher activity on Wednesday. Here's a code fragment to create a data frame of Wednesdays and their month-wise ordinals."
   ]
  },
  {
   "cell_type": "code",
   "execution_count": 31,
   "metadata": {
    "collapsed": false
   },
   "outputs": [
    {
     "data": {
      "text/html": [
       "<table>\n",
       "<thead><tr><th></th><th scope=col>Date</th><th scope=col>weekday</th><th scope=col>month</th><th scope=col>year</th></tr></thead>\n",
       "<tbody>\n",
       "\t<tr><th scope=row>1</th><td>2003-01-01</td><td>Wednesday</td><td>January</td><td>2003</td></tr>\n",
       "\t<tr><th scope=row>2</th><td>2003-01-02</td><td>Thursday</td><td>January</td><td>2003</td></tr>\n",
       "\t<tr><th scope=row>3</th><td>2003-01-03</td><td>Friday</td><td>January</td><td>2003</td></tr>\n",
       "\t<tr><th scope=row>4</th><td>2003-01-04</td><td>Saturday</td><td>January</td><td>2003</td></tr>\n",
       "\t<tr><th scope=row>5</th><td>2003-01-05</td><td>Sunday</td><td>January</td><td>2003</td></tr>\n",
       "\t<tr><th scope=row>6</th><td>2003-01-06</td><td>Monday</td><td>January</td><td>2003</td></tr>\n",
       "\t<tr><th scope=row>7</th><td>2003-01-07</td><td>Tuesday</td><td>January</td><td>2003</td></tr>\n",
       "\t<tr><th scope=row>8</th><td>2003-01-08</td><td>Wednesday</td><td>January</td><td>2003</td></tr>\n",
       "\t<tr><th scope=row>9</th><td>2003-01-09</td><td>Thursday</td><td>January</td><td>2003</td></tr>\n",
       "\t<tr><th scope=row>10</th><td>2003-01-10</td><td>Friday</td><td>January</td><td>2003</td></tr>\n",
       "</tbody>\n",
       "</table>\n"
      ],
      "text/latex": [
       "\\begin{tabular}{r|llll}\n",
       "  & Date & weekday & month & year\\\\\n",
       "\\hline\n",
       "\t1 & 2003-01-01 & Wednesday & January & 2003\\\\\n",
       "\t2 & 2003-01-02 & Thursday & January & 2003\\\\\n",
       "\t3 & 2003-01-03 & Friday & January & 2003\\\\\n",
       "\t4 & 2003-01-04 & Saturday & January & 2003\\\\\n",
       "\t5 & 2003-01-05 & Sunday & January & 2003\\\\\n",
       "\t6 & 2003-01-06 & Monday & January & 2003\\\\\n",
       "\t7 & 2003-01-07 & Tuesday & January & 2003\\\\\n",
       "\t8 & 2003-01-08 & Wednesday & January & 2003\\\\\n",
       "\t9 & 2003-01-09 & Thursday & January & 2003\\\\\n",
       "\t10 & 2003-01-10 & Friday & January & 2003\\\\\n",
       "\\end{tabular}\n"
      ],
      "text/plain": [
       "Source: local data frame [10 x 4]\n",
       "\n",
       "         Date   weekday   month  year\n",
       "       (date)     (chr)   (chr) (chr)\n",
       "1  2003-01-01 Wednesday January  2003\n",
       "2  2003-01-02  Thursday January  2003\n",
       "3  2003-01-03    Friday January  2003\n",
       "4  2003-01-04  Saturday January  2003\n",
       "5  2003-01-05    Sunday January  2003\n",
       "6  2003-01-06    Monday January  2003\n",
       "7  2003-01-07   Tuesday January  2003\n",
       "8  2003-01-08 Wednesday January  2003\n",
       "9  2003-01-09  Thursday January  2003\n",
       "10 2003-01-10    Friday January  2003"
      ]
     },
     "execution_count": 31,
     "metadata": {},
     "output_type": "execute_result"
    }
   ],
   "source": [
    "start_date <- \"2003-01-01\"\n",
    "end_date <- \"2015-11-15\"\n",
    "\n",
    "# Create a vector of all days between start and end date\n",
    "days <- seq(as.Date(start_date), as.Date(end_date), \"days\")\n",
    "\n",
    "df_dates <- tbl_df(data.frame(Date = days)) %>%\n",
    "                mutate(weekday = format(Date, \"%A\"),\n",
    "                       month = format(Date, \"%B\"),\n",
    "                       year = format(Date, \"%Y\"))\n",
    "\n",
    "df_dates %>% head(10)"
   ]
  },
  {
   "cell_type": "markdown",
   "metadata": {},
   "source": [
    "Use window function shennanigans to get the ordinal ranks."
   ]
  },
  {
   "cell_type": "code",
   "execution_count": 32,
   "metadata": {
    "collapsed": false
   },
   "outputs": [
    {
     "data": {
      "text/html": [
       "<table>\n",
       "<thead><tr><th></th><th scope=col>Date</th><th scope=col>weekday</th><th scope=col>month</th><th scope=col>year</th><th scope=col>rank</th><th scope=col>ordinal</th></tr></thead>\n",
       "<tbody>\n",
       "\t<tr><th scope=row>1</th><td>01/01/2003</td><td>Wednesday</td><td>January</td><td>2003</td><td>First</td><td>First Wednesday</td></tr>\n",
       "\t<tr><th scope=row>2</th><td>01/08/2003</td><td>Wednesday</td><td>January</td><td>2003</td><td>Second</td><td>Second Wednesday</td></tr>\n",
       "\t<tr><th scope=row>3</th><td>01/15/2003</td><td>Wednesday</td><td>January</td><td>2003</td><td>Third</td><td>Third Wednesday</td></tr>\n",
       "\t<tr><th scope=row>4</th><td>01/22/2003</td><td>Wednesday</td><td>January</td><td>2003</td><td>Fourth</td><td>Fourth Wednesday</td></tr>\n",
       "\t<tr><th scope=row>5</th><td>02/05/2003</td><td>Wednesday</td><td>February</td><td>2003</td><td>First</td><td>First Wednesday</td></tr>\n",
       "\t<tr><th scope=row>6</th><td>02/12/2003</td><td>Wednesday</td><td>February</td><td>2003</td><td>Second</td><td>Second Wednesday</td></tr>\n",
       "\t<tr><th scope=row>7</th><td>02/19/2003</td><td>Wednesday</td><td>February</td><td>2003</td><td>Third</td><td>Third Wednesday</td></tr>\n",
       "\t<tr><th scope=row>8</th><td>02/26/2003</td><td>Wednesday</td><td>February</td><td>2003</td><td>Fourth</td><td>Fourth Wednesday</td></tr>\n",
       "\t<tr><th scope=row>9</th><td>03/05/2003</td><td>Wednesday</td><td>March</td><td>2003</td><td>First</td><td>First Wednesday</td></tr>\n",
       "\t<tr><th scope=row>10</th><td>03/12/2003</td><td>Wednesday</td><td>March</td><td>2003</td><td>Second</td><td>Second Wednesday</td></tr>\n",
       "</tbody>\n",
       "</table>\n"
      ],
      "text/latex": [
       "\\begin{tabular}{r|llllll}\n",
       "  & Date & weekday & month & year & rank & ordinal\\\\\n",
       "\\hline\n",
       "\t1 & 01/01/2003 & Wednesday & January & 2003 & First & First Wednesday\\\\\n",
       "\t2 & 01/08/2003 & Wednesday & January & 2003 & Second & Second Wednesday\\\\\n",
       "\t3 & 01/15/2003 & Wednesday & January & 2003 & Third & Third Wednesday\\\\\n",
       "\t4 & 01/22/2003 & Wednesday & January & 2003 & Fourth & Fourth Wednesday\\\\\n",
       "\t5 & 02/05/2003 & Wednesday & February & 2003 & First & First Wednesday\\\\\n",
       "\t6 & 02/12/2003 & Wednesday & February & 2003 & Second & Second Wednesday\\\\\n",
       "\t7 & 02/19/2003 & Wednesday & February & 2003 & Third & Third Wednesday\\\\\n",
       "\t8 & 02/26/2003 & Wednesday & February & 2003 & Fourth & Fourth Wednesday\\\\\n",
       "\t9 & 03/05/2003 & Wednesday & March & 2003 & First & First Wednesday\\\\\n",
       "\t10 & 03/12/2003 & Wednesday & March & 2003 & Second & Second Wednesday\\\\\n",
       "\\end{tabular}\n"
      ],
      "text/plain": [
       "Source: local data frame [10 x 6]\n",
       "Groups: year, month [3]\n",
       "\n",
       "         Date   weekday    month  year   rank          ordinal\n",
       "        (chr)     (chr)    (chr) (chr) (fctr)            (chr)\n",
       "1  01/01/2003 Wednesday  January  2003  First  First Wednesday\n",
       "2  01/08/2003 Wednesday  January  2003 Second Second Wednesday\n",
       "3  01/15/2003 Wednesday  January  2003  Third  Third Wednesday\n",
       "4  01/22/2003 Wednesday  January  2003 Fourth Fourth Wednesday\n",
       "5  02/05/2003 Wednesday February  2003  First  First Wednesday\n",
       "6  02/12/2003 Wednesday February  2003 Second Second Wednesday\n",
       "7  02/19/2003 Wednesday February  2003  Third  Third Wednesday\n",
       "8  02/26/2003 Wednesday February  2003 Fourth Fourth Wednesday\n",
       "9  03/05/2003 Wednesday    March  2003  First  First Wednesday\n",
       "10 03/12/2003 Wednesday    March  2003 Second Second Wednesday"
      ]
     },
     "execution_count": 32,
     "metadata": {},
     "output_type": "execute_result"
    }
   ],
   "source": [
    "# Text values to replace numeric ordinals\n",
    "ordinals <- c(\"First\", \"Second\", \"Third\", \"Fourth\")\n",
    "\n",
    "df_dates <- df_dates %>%\n",
    "                filter(weekday == \"Wednesday\") %>%\n",
    "                group_by(year, month) %>%\n",
    "                mutate(rank = rank(Date)) %>%\n",
    "                filter(rank <= 4) %>% # removes the rare 5th Wednesday\n",
    "                mutate(Date = format(Date, format = \"%m/%d/%Y\"),  # needs to be proper format for merging\n",
    "                       rank = factor(rank, levels = 1:4, labels = ordinals),\n",
    "                       ordinal = paste(rank, weekday))\n",
    "\n",
    "df_dates %>% head(10)"
   ]
  },
  {
   "cell_type": "markdown",
   "metadata": {},
   "source": [
    "Combine with the arrest data frame."
   ]
  },
  {
   "cell_type": "code",
   "execution_count": 49,
   "metadata": {
    "collapsed": false
   },
   "outputs": [
    {
     "name": "stderr",
     "output_type": "stream",
     "text": [
      "Joining by: \"Date\"\n"
     ]
    },
    {
     "data": {
      "text/html": [
       "'NA values present from Merge: FALSE'"
      ],
      "text/latex": [
       "'NA values present from Merge: FALSE'"
      ],
      "text/markdown": [
       "'NA values present from Merge: FALSE'"
      ],
      "text/plain": [
       "[1] \"NA values present from Merge: FALSE\""
      ]
     },
     "execution_count": 49,
     "metadata": {},
     "output_type": "execute_result"
    },
    {
     "data": {
      "text/html": [
       "<table>\n",
       "<thead><tr><th></th><th scope=col>Date</th><th scope=col>Time</th><th scope=col>X</th><th scope=col>Y</th><th scope=col>ordinal</th></tr></thead>\n",
       "<tbody>\n",
       "\t<tr><th scope=row>1</th><td>11/26/2003</td><td>11:15</td><td>-122.4106</td><td>37.7825</td><td>Fourth Wednesday</td></tr>\n",
       "\t<tr><th scope=row>2</th><td>09/03/2003</td><td>22:17</td><td>-122.3891</td><td>37.71968</td><td>First Wednesday</td></tr>\n",
       "\t<tr><th scope=row>3</th><td>09/14/2011</td><td>23:24</td><td>-122.4108</td><td>37.78321</td><td>Second Wednesday</td></tr>\n",
       "\t<tr><th scope=row>4</th><td>11/10/2004</td><td>16:00</td><td>-122.4162</td><td>37.76363</td><td>Second Wednesday</td></tr>\n",
       "\t<tr><th scope=row>5</th><td>06/06/2007</td><td>20:09</td><td>-122.4164</td><td>37.7816</td><td>First Wednesday</td></tr>\n",
       "\t<tr><th scope=row>6</th><td>12/10/2008</td><td>15:52</td><td>-122.411</td><td>37.78414</td><td>Second Wednesday</td></tr>\n",
       "\t<tr><th scope=row>7</th><td>02/22/2006</td><td>10:55</td><td>-122.4085</td><td>37.77376</td><td>Fourth Wednesday</td></tr>\n",
       "\t<tr><th scope=row>8</th><td>10/23/2013</td><td>23:30</td><td>-122.4296</td><td>37.76775</td><td>Fourth Wednesday</td></tr>\n",
       "\t<tr><th scope=row>9</th><td>03/28/2007</td><td>10:25</td><td>-122.4466</td><td>37.78225</td><td>Fourth Wednesday</td></tr>\n",
       "\t<tr><th scope=row>10</th><td>08/02/2006</td><td>17:52</td><td>-122.4124</td><td>37.783</td><td>First Wednesday</td></tr>\n",
       "</tbody>\n",
       "</table>\n"
      ],
      "text/latex": [
       "\\begin{tabular}{r|lllll}\n",
       "  & Date & Time & X & Y & ordinal\\\\\n",
       "\\hline\n",
       "\t1 & 11/26/2003 & 11:15 & -122.4106 & 37.7825 & Fourth Wednesday\\\\\n",
       "\t2 & 09/03/2003 & 22:17 & -122.3891 & 37.71968 & First Wednesday\\\\\n",
       "\t3 & 09/14/2011 & 23:24 & -122.4108 & 37.78321 & Second Wednesday\\\\\n",
       "\t4 & 11/10/2004 & 16:00 & -122.4162 & 37.76363 & Second Wednesday\\\\\n",
       "\t5 & 06/06/2007 & 20:09 & -122.4164 & 37.7816 & First Wednesday\\\\\n",
       "\t6 & 12/10/2008 & 15:52 & -122.411 & 37.78414 & Second Wednesday\\\\\n",
       "\t7 & 02/22/2006 & 10:55 & -122.4085 & 37.77376 & Fourth Wednesday\\\\\n",
       "\t8 & 10/23/2013 & 23:30 & -122.4296 & 37.76775 & Fourth Wednesday\\\\\n",
       "\t9 & 03/28/2007 & 10:25 & -122.4466 & 37.78225 & Fourth Wednesday\\\\\n",
       "\t10 & 08/02/2006 & 17:52 & -122.4124 & 37.783 & First Wednesday\\\\\n",
       "\\end{tabular}\n"
      ],
      "text/plain": [
       "Source: local data frame [10 x 5]\n",
       "\n",
       "         Date  Time         X        Y          ordinal\n",
       "        (chr) (chr)     (dbl)    (dbl)            (chr)\n",
       "1  11/26/2003 11:15 -122.4106 37.78250 Fourth Wednesday\n",
       "2  09/03/2003 22:17 -122.3891 37.71968  First Wednesday\n",
       "3  09/14/2011 23:24 -122.4108 37.78321 Second Wednesday\n",
       "4  11/10/2004 16:00 -122.4162 37.76363 Second Wednesday\n",
       "5  06/06/2007 20:09 -122.4164 37.78160  First Wednesday\n",
       "6  12/10/2008 15:52 -122.4110 37.78414 Second Wednesday\n",
       "7  02/22/2006 10:55 -122.4085 37.77376 Fourth Wednesday\n",
       "8  10/23/2013 23:30 -122.4296 37.76775 Fourth Wednesday\n",
       "9  03/28/2007 10:25 -122.4466 37.78225 Fourth Wednesday\n",
       "10 08/02/2006 17:52 -122.4124 37.78300  First Wednesday"
      ]
     },
     "execution_count": 49,
     "metadata": {},
     "output_type": "execute_result"
    }
   ],
   "source": [
    "df_arrest_wed <- df_arrest %>%\n",
    "                filter(DayOfWeek == \"Wednesday\") %>%\n",
    "                inner_join(df_dates) %>%\n",
    "                select(Date, Time, X, Y, ordinal)\n",
    "\n",
    "sprintf(\"NA values present from Merge: %s\", sum(is.na(df_arrest_wed %>% select(ordinal))) > 0)\n",
    "set.seed(42)\n",
    "df_arrest_wed %>% sample_n(10)"
   ]
  },
  {
   "cell_type": "code",
   "execution_count": 50,
   "metadata": {
    "collapsed": false
   },
   "outputs": [
    {
     "data": {
      "text/html": [
       "<table>\n",
       "<thead><tr><th></th><th scope=col>ordinal</th><th scope=col>Hour</th><th scope=col>count</th></tr></thead>\n",
       "<tbody>\n",
       "\t<tr><th scope=row>1</th><td>First Wednesday</td><td>0</td><td>783</td></tr>\n",
       "\t<tr><th scope=row>2</th><td>First Wednesday</td><td>1</td><td>581</td></tr>\n",
       "\t<tr><th scope=row>3</th><td>First Wednesday</td><td>2</td><td>460</td></tr>\n",
       "\t<tr><th scope=row>4</th><td>First Wednesday</td><td>3</td><td>363</td></tr>\n",
       "\t<tr><th scope=row>5</th><td>First Wednesday</td><td>4</td><td>247</td></tr>\n",
       "\t<tr><th scope=row>6</th><td>First Wednesday</td><td>5</td><td>282</td></tr>\n",
       "\t<tr><th scope=row>7</th><td>First Wednesday</td><td>6</td><td>356</td></tr>\n",
       "\t<tr><th scope=row>8</th><td>First Wednesday</td><td>7</td><td>621</td></tr>\n",
       "\t<tr><th scope=row>9</th><td>First Wednesday</td><td>8</td><td>795</td></tr>\n",
       "\t<tr><th scope=row>10</th><td>First Wednesday</td><td>9</td><td>831</td></tr>\n",
       "</tbody>\n",
       "</table>\n"
      ],
      "text/latex": [
       "\\begin{tabular}{r|lll}\n",
       "  & ordinal & Hour & count\\\\\n",
       "\\hline\n",
       "\t1 & First Wednesday & 0 & 783\\\\\n",
       "\t2 & First Wednesday & 1 & 581\\\\\n",
       "\t3 & First Wednesday & 2 & 460\\\\\n",
       "\t4 & First Wednesday & 3 & 363\\\\\n",
       "\t5 & First Wednesday & 4 & 247\\\\\n",
       "\t6 & First Wednesday & 5 & 282\\\\\n",
       "\t7 & First Wednesday & 6 & 356\\\\\n",
       "\t8 & First Wednesday & 7 & 621\\\\\n",
       "\t9 & First Wednesday & 8 & 795\\\\\n",
       "\t10 & First Wednesday & 9 & 831\\\\\n",
       "\\end{tabular}\n"
      ],
      "text/plain": [
       "Source: local data frame [10 x 3]\n",
       "Groups: ordinal [1]\n",
       "\n",
       "           ordinal  Hour count\n",
       "             (chr) (dbl) (int)\n",
       "1  First Wednesday     0   783\n",
       "2  First Wednesday     1   581\n",
       "3  First Wednesday     2   460\n",
       "4  First Wednesday     3   363\n",
       "5  First Wednesday     4   247\n",
       "6  First Wednesday     5   282\n",
       "7  First Wednesday     6   356\n",
       "8  First Wednesday     7   621\n",
       "9  First Wednesday     8   795\n",
       "10 First Wednesday     9   831"
      ]
     },
     "execution_count": 50,
     "metadata": {},
     "output_type": "execute_result"
    }
   ],
   "source": [
    "df_arrests_ord <- df_arrest_wed %>%\n",
    "                    mutate(Hour = sapply(Time, get_hour)) %>%\n",
    "                    group_by(ordinal, Hour) %>%\n",
    "                    summarize(count = n())\n",
    "\n",
    "df_arrests_ord %>% head(10)"
   ]
  },
  {
   "cell_type": "code",
   "execution_count": 65,
   "metadata": {
    "collapsed": true
   },
   "outputs": [],
   "source": [
    "df_arrests_ord$ordinal <- factor(df_arrests_ord$ordinal, levels = c(\"First Wednesday\", \"Second Wednesday\", \"Third Wednesday\", \"Fourth Wednesday\"))\n",
    "\n",
    "plot <- ggplot(df_arrests_ord, aes(x = Hour, y = count, color = ordinal)) +\n",
    "    geom_line() +\n",
    "    fte_theme() +\n",
    "    scale_x_continuous(breaks = c(0,4,8,12,16,20), labels = c(\"12 AM\", \"4 AM\", \"8 AM\", \"12 PM\", \"4 PM\", \"8 PM\")) +\n",
    "    scale_y_continuous(labels = comma) +\n",
    "    theme(legend.title = element_blank(), legend.position=\"top\", legend.direction=\"horizontal\", legend.key.height=unit(0.25, \"cm\"), legend.margin=unit(-0.5,\"cm\")) +\n",
    "    labs(x = \"Hour of Arrest (Local Time)\", y = \"Total # of Arrests by Hour\", title = \"# of Police Arrests in San Francisco from 2003 – 2015 on Wednesdays, by Hour\")\n",
    "\n",
    "max_save(plot, \"ssi-crime-1\", \"SF OpenData\", w = 5)"
   ]
  },
  {
   "cell_type": "markdown",
   "metadata": {},
   "source": [
    "![](ssi-crime-1.png)"
   ]
  },
  {
   "cell_type": "markdown",
   "metadata": {},
   "source": [
    "Create a normallized map of the Wednesdays, because why not?"
   ]
  },
  {
   "cell_type": "code",
   "execution_count": 52,
   "metadata": {
    "collapsed": false
   },
   "outputs": [],
   "source": [
    "df_arrest_wed$ordinal <- factor(df_arrest_wed$ordinal, levels = c(\"First Wednesday\", \"Second Wednesday\", \"Third Wednesday\", \"Fourth Wednesday\"))\n",
    "\n",
    "plot <- ggmap(map) +\n",
    "            stat_summary_hex(data=df_arrest_wed %>% group_by(ordinal) %>% mutate(w=1/n()), aes(x=X, y=Y, z=w), fun=sum_thresh, alpha = 0.8, color=\"#CCCCCC\") +\n",
    "            fte_theme() +\n",
    "            theme(axis.text.x = element_blank(), axis.text.y = element_blank(), axis.title.x = element_blank(), axis.title.y = element_blank()) +\n",
    "            scale_fill_gradient(low = \"#DDDDDD\", high = \"#E74C3C\") +\n",
    "            labs(title = \"Locations of Police Arrests Made in San Francisco from 2003 – 2015, Normalized by # Wednesday\") +\n",
    "            facet_wrap(~ ordinal, nrow=2)\n",
    "\n",
    "max_save(plot, \"ssi-crime-2\", \"SF OpenData\", w = 5.5, h = 6, tall=T)"
   ]
  },
  {
   "cell_type": "markdown",
   "metadata": {
    "collapsed": true
   },
   "source": [
    "# The MIT License (MIT)\n",
    "\n",
    "Copyright (c) 2015 Max Woolf\n",
    "\n",
    "Permission is hereby granted, free of charge, to any person obtaining a copy\n",
    "of this software and associated documentation files (the \"Software\"), to deal\n",
    "in the Software without restriction, including without limitation the rights\n",
    "to use, copy, modify, merge, publish, distribute, sublicense, and/or sell\n",
    "copies of the Software, and to permit persons to whom the Software is\n",
    "furnished to do so, subject to the following conditions:\n",
    "\n",
    "The above copyright notice and this permission notice shall be included in all\n",
    "copies or substantial portions of the Software.\n",
    "\n",
    "THE SOFTWARE IS PROVIDED \"AS IS\", WITHOUT WARRANTY OF ANY KIND, EXPRESS OR\n",
    "IMPLIED, INCLUDING BUT NOT LIMITED TO THE WARRANTIES OF MERCHANTABILITY,\n",
    "FITNESS FOR A PARTICULAR PURPOSE AND NONINFRINGEMENT. IN NO EVENT SHALL THE\n",
    "AUTHORS OR COPYRIGHT HOLDERS BE LIABLE FOR ANY CLAIM, DAMAGES OR OTHER\n",
    "LIABILITY, WHETHER IN AN ACTION OF CONTRACT, TORT OR OTHERWISE, ARISING FROM,\n",
    "OUT OF OR IN CONNECTION WITH THE SOFTWARE OR THE USE OR OTHER DEALINGS IN THE\n",
    "SOFTWARE."
   ]
  }
 ],
 "metadata": {
  "kernelspec": {
   "display_name": "R",
   "language": "R",
   "name": "ir"
  },
  "language_info": {
   "codemirror_mode": "r",
   "file_extension": ".r",
   "mimetype": "text/x-r-source",
   "name": "R",
   "pygments_lexer": "r",
   "version": "3.2.2"
  }
 },
 "nbformat": 4,
 "nbformat_minor": 0
}
